{
 "cells": [
  {
   "cell_type": "code",
   "execution_count": 1,
   "metadata": {},
   "outputs": [],
   "source": [
    "import numpy as np\n",
    "import matplotlib.pyplot as plt\n",
    "from tqdm.notebook import tqdm"
   ]
  },
  {
   "cell_type": "markdown",
   "metadata": {},
   "source": [
    "**Problème :**\n",
    "\n",
    "$\\min_{x_0, X_1, X_2} \\mathbb{E}\\big(u_0^2 + U_1^2 + X_2^2\\big)$\n",
    "* $ X_1 = x_0 + u_0 + W_1 $\n",
    "* $ X_2 = X_1 + U_1 + W_2$\n",
    "\n",
    "**états :** $ x_0, X_1, X_2$ \n",
    "\n",
    "**décisions :** $u_0, U_1, U_2$ ;\n",
    "\n",
    "**bruits :** $W_1, W_2$\n",
    "\n",
    "**equations de Bellman :**\n",
    "\n",
    "* $f_T(x) = x^2$\n",
    "* $f_t(x) = \\min_{u \\in \\mathbb{R}} \\mathbb{E} \\big(u^2 + f_{t+1}(x + u + W_{t+1}) \\big)$\n",
    "\n",
    "On suppose pour la suite que $x_0=0$."
   ]
  },
  {
   "cell_type": "markdown",
   "metadata": {},
   "source": [
    "# Un cas où les bruits sont discrets"
   ]
  },
  {
   "cell_type": "markdown",
   "metadata": {},
   "source": [
    "### Programme où les bruits ne sont pas auto-corrélés"
   ]
  },
  {
   "cell_type": "markdown",
   "metadata": {},
   "source": [
    "On suppose que les $(W_t)$ sont indépendants et suivent une loi uniforme sur $\\{-1,~ 1\\}$."
   ]
  },
  {
   "cell_type": "code",
   "execution_count": 2,
   "metadata": {},
   "outputs": [
    {
     "data": {
      "application/vnd.jupyter.widget-view+json": {
       "model_id": "",
       "version_major": 2,
       "version_minor": 0
      },
      "text/plain": [
       "SDP:   0%|          | 0/20 [00:00<?, ?it/s]"
      ]
     },
     "metadata": {},
     "output_type": "display_data"
    },
    {
     "name": "stdout",
     "output_type": "stream",
     "text": [
      "COUT MOYEN THEORIQUE : 4.951515197753906\n"
     ]
    },
    {
     "data": {
      "application/vnd.jupyter.widget-view+json": {
       "model_id": "",
       "version_major": 2,
       "version_minor": 0
      },
      "text/plain": [
       "TEST:   0%|          | 0/10000 [00:00<?, ?it/s]"
      ]
     },
     "metadata": {},
     "output_type": "display_data"
    },
    {
     "name": "stdout",
     "output_type": "stream",
     "text": [
      "COUT MOYEN SIMULE : 4.9398 0.06926423686718565\n"
     ]
    }
   ],
   "source": [
    "def programmation_dynamique_stochastique(T):\n",
    "    n_etats = 6*T +1\n",
    "    decisions_set = [-2, -1, 0, 1, 2]\n",
    "    tab = np.zeros((T+1, n_etats)) #indexation [temps, état]\n",
    "    decisions = np.zeros((T, n_etats))\n",
    "\n",
    "    #calcul de la fonction de coûts finaux\n",
    "    for etat in range(n_etats):\n",
    "        tab[-1, etat] = (etat - 3*T) ** 2\n",
    "    #phase backward\n",
    "    for t in tqdm(range(T-1, -1, -1), desc=\"SDP\", leave=False): \n",
    "        for etat in range(3*(T-t), 3*(T+t)+1):\n",
    "            costs = []\n",
    "            for decision in decisions_set:\n",
    "                costs.append(decision ** 2 + .5 * tab[t+1, etat+decision+1] + .5 * tab[t+1, etat+decision-1])\n",
    "            tab[t, etat] = min(costs)\n",
    "            decisions[t, etat] = decisions_set[costs.index(tab[t, etat])]\n",
    "\n",
    "    idx_etat_initial = 3*T\n",
    "    return tab[0, idx_etat_initial], decisions\n",
    "        \n",
    "def generate_scenarios_non_correles(T, n_scenarios):\n",
    "    return 2*np.random.randint(2, size=(n_scenarios, T))-1\n",
    "\n",
    "def test_sur_scenarios_non_correles(decisions, scenarios, T):\n",
    "    etats = np.zeros((T+1, scenarios.shape[0]))\n",
    "    costs = []\n",
    "    for idx, scenario in tqdm(enumerate(scenarios), desc=\"TEST\", total=scenarios.shape[0], leave=False):\n",
    "        cost = 0\n",
    "        for t in range(1, T+1):\n",
    "            etat = etats[t-1, idx]\n",
    "            decision = decisions[t-1, int(etat) + 3*T]\n",
    "            bruit = scenario[t-1]\n",
    "            etats[t, idx] =  etat + decision + bruit\n",
    "            cost += decision ** 2\n",
    "        cost += etats[T, idx] **2\n",
    "        costs.append(cost)\n",
    "    return etats, np.array(costs)\n",
    "\n",
    "T = 20\n",
    "N_SCENARIOS = 10000\n",
    "SCENARIOS_BRUIT_BLANCS = generate_scenarios_non_correles(T, N_SCENARIOS)\n",
    "cout_moyen, decisions = programmation_dynamique_stochastique(T)\n",
    "print(\"COUT MOYEN THEORIQUE :\", cout_moyen)\n",
    "trajectoires, couts = test_sur_scenarios_non_correles(decisions, SCENARIOS_BRUIT_BLANCS, T)\n",
    "print(\"COUT MOYEN SIMULE :\", np.mean(couts), 1.96*np.std(couts)/np.sqrt(N_SCENARIOS))"
   ]
  },
  {
   "cell_type": "markdown",
   "metadata": {},
   "source": [
    "### Programme où les bruits sont autocorrélés"
   ]
  },
  {
   "cell_type": "markdown",
   "metadata": {},
   "source": [
    "Soit $M$ un processus de Markov avec deux états $\\{A, B \\}$. Il existe $\\rho \\in [-1, 1]$ tel que la matrice de transition de $M$ est:\n",
    "\\begin{pmatrix}\n",
    "\\frac{1 + \\rho}{2}   & \\frac{1 - \\rho}{2} \\\\\n",
    "\\frac{1 - \\rho}{2}   & \\frac{1 + \\rho}{2} \\\\\n",
    "\\end{pmatrix}\n",
    "Sa probabilité initiale est $\\pi_0 = (\\frac{1}{2}, ~ \\frac{1}{2})$.\n",
    "Sot W la variable aléatoire dont la valeur dépend de l'état du processus de Markov :\n",
    "\n",
    "* $W_t = -1$ si $M$ est à l'état $A$ à l'instant $t$\n",
    "* $W_t = 1$ si $M$ est à l'état $A$ à l'instant $t$\n",
    "\n",
    "On remarque que la probabilité invariante est $\\pi = (\\frac{1}{2}, ~ \\frac{1}{2})$.\n",
    "\n",
    "On a $Corr(X_t,~ X_{t+1}) = \\rho$.\n",
    "\n",
    "On suppose que le décideur doit choisir une décision dans $[-2, -1, 0, 1, 2]$."
   ]
  },
  {
   "cell_type": "code",
   "execution_count": 3,
   "metadata": {},
   "outputs": [
    {
     "data": {
      "application/vnd.jupyter.widget-view+json": {
       "model_id": "",
       "version_major": 2,
       "version_minor": 0
      },
      "text/plain": [
       "SDP correlations:   0%|          | 0/20 [00:00<?, ?it/s]"
      ]
     },
     "metadata": {},
     "output_type": "display_data"
    },
    {
     "name": "stdout",
     "output_type": "stream",
     "text": [
      "COUT MOYEN THEORIQUE : 9.05735530925449\n"
     ]
    },
    {
     "data": {
      "application/vnd.jupyter.widget-view+json": {
       "model_id": "",
       "version_major": 2,
       "version_minor": 0
      },
      "text/plain": [
       "TEST:   0%|          | 0/10000 [00:00<?, ?it/s]"
      ]
     },
     "metadata": {},
     "output_type": "display_data"
    },
    {
     "name": "stdout",
     "output_type": "stream",
     "text": [
      "COUT MOYEN SIMULE : 9.0004 0.11304018543214799\n"
     ]
    }
   ],
   "source": [
    "def programmation_dynamique_stochastique_correlations(T, rho):\n",
    "    n_etats = 6*T + 1\n",
    "    decisions_set = [-2, -1, 0, 1, 2]\n",
    "    tab = np.zeros((T+1, n_etats, 2)) #indexation [temps, état]\n",
    "    decisions = np.zeros((T, n_etats, 2))\n",
    "\n",
    "    #calcul de la fonction de coûts finaux\n",
    "    for etat in range(n_etats):\n",
    "        tab[-1, etat] = (etat - 3*T) ** 2\n",
    "\n",
    "    #phase backward\n",
    "    for t in tqdm(range(T-1, -1, -1), desc=\"SDP correlations\", leave=False): \n",
    "        for etat in range(3*(T-t), 3*(T+t)+1):\n",
    "            for last_noise in range(2):\n",
    "                costs = []\n",
    "                for decision in decisions_set:\n",
    "                    costs.append(decision ** 2 + ((1 + rho)/2) * tab[t+1, etat+decision+(2*last_noise-1), last_noise] + ((1 - rho)/2)  * tab[t+1, etat+decision+(1-2*last_noise), 1-last_noise])\n",
    "                tab[t, etat, last_noise] = min(costs)\n",
    "                decisions[t, etat, last_noise] = decisions_set[costs.index(tab[t, etat, last_noise])]\n",
    "\n",
    "    idx_etat_initial = 3*T\n",
    "    return np.mean(tab[0, idx_etat_initial, :]), decisions\n",
    "\n",
    "def generate_scenarios_correles(T, n_scenarios, rho):\n",
    "    scenarios = np.zeros((n_scenarios, T))\n",
    "    scenarios[:, 0] = 2*np.random.randint(2, size=n_scenarios)-1\n",
    "    for t in range(1, T):\n",
    "        scenarios[:, t] = scenarios[:, t-1] * np.random.choice([1, -1], n_scenarios, p=[(1+rho)/2, (1-rho)/2])\n",
    "    return scenarios\n",
    "\n",
    "\n",
    "def test_sur_scenarios_correles(decisions, scenarios, T):\n",
    "    etats = np.zeros((T+1, scenarios.shape[0]))\n",
    "    costs = []\n",
    "    for idx, scenario in tqdm(enumerate(scenarios), desc=\"TEST\", total=scenarios.shape[0], leave=False):\n",
    "        cost = 0\n",
    "        dernier_bruit = None\n",
    "        for t in range(1, T+1):\n",
    "\n",
    "            etat = etats[t-1, idx]\n",
    "            decision = None\n",
    "            if dernier_bruit is None:\n",
    "                decision = np.random.choice(decisions[t-1, int(etat) + 3*T, :], p=[1/2, 1/2])\n",
    "            else:\n",
    "                decision = decisions[t-1, int(etat) + 3*T, int((dernier_bruit+1)/2)]\n",
    "    \n",
    "            bruit = scenario[t-1]\n",
    "            etats[t, idx] =  etat + decision + bruit\n",
    "            cost += decision ** 2\n",
    "            dernier_bruit = bruit\n",
    "\n",
    "        cost += etats[T, idx] **2\n",
    "        costs.append(cost)\n",
    "    return etats, np.array(costs)\n",
    "\n",
    "\n",
    "T = 20\n",
    "N_SCENARIOS = 10000\n",
    "RHO = 0.5\n",
    "SCENARIOS_BRUIT_CORRELES = generate_scenarios_correles(T, N_SCENARIOS, RHO)\n",
    "#print(SCENARIOS_BRUIT_CORRELES)\n",
    "cout_moyen, decisions = programmation_dynamique_stochastique_correlations(T, RHO)\n",
    "print(\"COUT MOYEN THEORIQUE :\", cout_moyen)\n",
    "trajectoires, couts = test_sur_scenarios_correles(decisions, SCENARIOS_BRUIT_CORRELES, T)\n",
    "print(\"COUT MOYEN SIMULE :\", np.mean(couts), 1.96*np.std(couts)/np.sqrt(N_SCENARIOS))"
   ]
  },
  {
   "cell_type": "markdown",
   "metadata": {},
   "source": [
    "## Comparaison des méthodes"
   ]
  },
  {
   "cell_type": "code",
   "execution_count": 8,
   "metadata": {
    "scrolled": false
   },
   "outputs": [
    {
     "data": {
      "application/vnd.jupyter.widget-view+json": {
       "model_id": "",
       "version_major": 2,
       "version_minor": 0
      },
      "text/plain": [
       "SDP:   0%|          | 0/20 [00:00<?, ?it/s]"
      ]
     },
     "metadata": {},
     "output_type": "display_data"
    },
    {
     "data": {
      "application/vnd.jupyter.widget-view+json": {
       "model_id": "27fd26c047714a50aebbf0668f913511",
       "version_major": 2,
       "version_minor": 0
      },
      "text/plain": [
       "  0%|          | 0/100 [00:00<?, ?it/s]"
      ]
     },
     "metadata": {},
     "output_type": "display_data"
    },
    {
     "data": {
      "application/vnd.jupyter.widget-view+json": {
       "model_id": "",
       "version_major": 2,
       "version_minor": 0
      },
      "text/plain": [
       "TEST:   0%|          | 0/1000 [00:00<?, ?it/s]"
      ]
     },
     "metadata": {},
     "output_type": "display_data"
    },
    {
     "data": {
      "application/vnd.jupyter.widget-view+json": {
       "model_id": "",
       "version_major": 2,
       "version_minor": 0
      },
      "text/plain": [
       "SDP correlations:   0%|          | 0/20 [00:00<?, ?it/s]"
      ]
     },
     "metadata": {},
     "output_type": "display_data"
    },
    {
     "data": {
      "application/vnd.jupyter.widget-view+json": {
       "model_id": "",
       "version_major": 2,
       "version_minor": 0
      },
      "text/plain": [
       "TEST:   0%|          | 0/1000 [00:00<?, ?it/s]"
      ]
     },
     "metadata": {},
     "output_type": "display_data"
    },
    {
     "name": "stderr",
     "output_type": "stream",
     "text": [
      "C:\\Users\\NICOLA~1\\AppData\\Local\\Temp/ipykernel_38544/2688199018.py:33: RuntimeWarning: divide by zero encountered in double_scalars\n",
      "  ecarts_relatifs_couts.append((couts_moyens_sans_correlations[-1] - couts_moyens_correlations[-1]) / couts_moyens_correlations[-1])\n",
      "C:\\Users\\NICOLA~1\\AppData\\Local\\Temp/ipykernel_38544/2688199018.py:37: RuntimeWarning: divide by zero encountered in double_scalars\n",
      "  incert_ecarts_relatifs_couts.append(incert_couts_moyens_sans_correlations[-1] / couts_moyens_correlations[-1])\n"
     ]
    },
    {
     "data": {
      "application/vnd.jupyter.widget-view+json": {
       "model_id": "",
       "version_major": 2,
       "version_minor": 0
      },
      "text/plain": [
       "TEST:   0%|          | 0/1000 [00:00<?, ?it/s]"
      ]
     },
     "metadata": {},
     "output_type": "display_data"
    },
    {
     "data": {
      "application/vnd.jupyter.widget-view+json": {
       "model_id": "",
       "version_major": 2,
       "version_minor": 0
      },
      "text/plain": [
       "SDP correlations:   0%|          | 0/20 [00:00<?, ?it/s]"
      ]
     },
     "metadata": {},
     "output_type": "display_data"
    },
    {
     "data": {
      "application/vnd.jupyter.widget-view+json": {
       "model_id": "",
       "version_major": 2,
       "version_minor": 0
      },
      "text/plain": [
       "TEST:   0%|          | 0/1000 [00:00<?, ?it/s]"
      ]
     },
     "metadata": {},
     "output_type": "display_data"
    },
    {
     "data": {
      "application/vnd.jupyter.widget-view+json": {
       "model_id": "",
       "version_major": 2,
       "version_minor": 0
      },
      "text/plain": [
       "TEST:   0%|          | 0/1000 [00:00<?, ?it/s]"
      ]
     },
     "metadata": {},
     "output_type": "display_data"
    },
    {
     "data": {
      "application/vnd.jupyter.widget-view+json": {
       "model_id": "",
       "version_major": 2,
       "version_minor": 0
      },
      "text/plain": [
       "SDP correlations:   0%|          | 0/20 [00:00<?, ?it/s]"
      ]
     },
     "metadata": {},
     "output_type": "display_data"
    },
    {
     "data": {
      "application/vnd.jupyter.widget-view+json": {
       "model_id": "",
       "version_major": 2,
       "version_minor": 0
      },
      "text/plain": [
       "TEST:   0%|          | 0/1000 [00:00<?, ?it/s]"
      ]
     },
     "metadata": {},
     "output_type": "display_data"
    },
    {
     "data": {
      "application/vnd.jupyter.widget-view+json": {
       "model_id": "",
       "version_major": 2,
       "version_minor": 0
      },
      "text/plain": [
       "TEST:   0%|          | 0/1000 [00:00<?, ?it/s]"
      ]
     },
     "metadata": {},
     "output_type": "display_data"
    },
    {
     "data": {
      "application/vnd.jupyter.widget-view+json": {
       "model_id": "",
       "version_major": 2,
       "version_minor": 0
      },
      "text/plain": [
       "SDP correlations:   0%|          | 0/20 [00:00<?, ?it/s]"
      ]
     },
     "metadata": {},
     "output_type": "display_data"
    },
    {
     "data": {
      "application/vnd.jupyter.widget-view+json": {
       "model_id": "",
       "version_major": 2,
       "version_minor": 0
      },
      "text/plain": [
       "TEST:   0%|          | 0/1000 [00:00<?, ?it/s]"
      ]
     },
     "metadata": {},
     "output_type": "display_data"
    },
    {
     "data": {
      "application/vnd.jupyter.widget-view+json": {
       "model_id": "",
       "version_major": 2,
       "version_minor": 0
      },
      "text/plain": [
       "TEST:   0%|          | 0/1000 [00:00<?, ?it/s]"
      ]
     },
     "metadata": {},
     "output_type": "display_data"
    },
    {
     "data": {
      "application/vnd.jupyter.widget-view+json": {
       "model_id": "",
       "version_major": 2,
       "version_minor": 0
      },
      "text/plain": [
       "SDP correlations:   0%|          | 0/20 [00:00<?, ?it/s]"
      ]
     },
     "metadata": {},
     "output_type": "display_data"
    },
    {
     "data": {
      "application/vnd.jupyter.widget-view+json": {
       "model_id": "",
       "version_major": 2,
       "version_minor": 0
      },
      "text/plain": [
       "TEST:   0%|          | 0/1000 [00:00<?, ?it/s]"
      ]
     },
     "metadata": {},
     "output_type": "display_data"
    },
    {
     "data": {
      "application/vnd.jupyter.widget-view+json": {
       "model_id": "",
       "version_major": 2,
       "version_minor": 0
      },
      "text/plain": [
       "TEST:   0%|          | 0/1000 [00:00<?, ?it/s]"
      ]
     },
     "metadata": {},
     "output_type": "display_data"
    },
    {
     "data": {
      "application/vnd.jupyter.widget-view+json": {
       "model_id": "",
       "version_major": 2,
       "version_minor": 0
      },
      "text/plain": [
       "SDP correlations:   0%|          | 0/20 [00:00<?, ?it/s]"
      ]
     },
     "metadata": {},
     "output_type": "display_data"
    },
    {
     "data": {
      "application/vnd.jupyter.widget-view+json": {
       "model_id": "",
       "version_major": 2,
       "version_minor": 0
      },
      "text/plain": [
       "TEST:   0%|          | 0/1000 [00:00<?, ?it/s]"
      ]
     },
     "metadata": {},
     "output_type": "display_data"
    },
    {
     "data": {
      "application/vnd.jupyter.widget-view+json": {
       "model_id": "",
       "version_major": 2,
       "version_minor": 0
      },
      "text/plain": [
       "TEST:   0%|          | 0/1000 [00:00<?, ?it/s]"
      ]
     },
     "metadata": {},
     "output_type": "display_data"
    },
    {
     "data": {
      "application/vnd.jupyter.widget-view+json": {
       "model_id": "",
       "version_major": 2,
       "version_minor": 0
      },
      "text/plain": [
       "SDP correlations:   0%|          | 0/20 [00:00<?, ?it/s]"
      ]
     },
     "metadata": {},
     "output_type": "display_data"
    },
    {
     "data": {
      "application/vnd.jupyter.widget-view+json": {
       "model_id": "",
       "version_major": 2,
       "version_minor": 0
      },
      "text/plain": [
       "TEST:   0%|          | 0/1000 [00:00<?, ?it/s]"
      ]
     },
     "metadata": {},
     "output_type": "display_data"
    },
    {
     "data": {
      "application/vnd.jupyter.widget-view+json": {
       "model_id": "",
       "version_major": 2,
       "version_minor": 0
      },
      "text/plain": [
       "TEST:   0%|          | 0/1000 [00:00<?, ?it/s]"
      ]
     },
     "metadata": {},
     "output_type": "display_data"
    },
    {
     "data": {
      "application/vnd.jupyter.widget-view+json": {
       "model_id": "",
       "version_major": 2,
       "version_minor": 0
      },
      "text/plain": [
       "SDP correlations:   0%|          | 0/20 [00:00<?, ?it/s]"
      ]
     },
     "metadata": {},
     "output_type": "display_data"
    },
    {
     "data": {
      "application/vnd.jupyter.widget-view+json": {
       "model_id": "",
       "version_major": 2,
       "version_minor": 0
      },
      "text/plain": [
       "TEST:   0%|          | 0/1000 [00:00<?, ?it/s]"
      ]
     },
     "metadata": {},
     "output_type": "display_data"
    },
    {
     "data": {
      "application/vnd.jupyter.widget-view+json": {
       "model_id": "",
       "version_major": 2,
       "version_minor": 0
      },
      "text/plain": [
       "TEST:   0%|          | 0/1000 [00:00<?, ?it/s]"
      ]
     },
     "metadata": {},
     "output_type": "display_data"
    },
    {
     "data": {
      "application/vnd.jupyter.widget-view+json": {
       "model_id": "",
       "version_major": 2,
       "version_minor": 0
      },
      "text/plain": [
       "SDP correlations:   0%|          | 0/20 [00:00<?, ?it/s]"
      ]
     },
     "metadata": {},
     "output_type": "display_data"
    },
    {
     "data": {
      "application/vnd.jupyter.widget-view+json": {
       "model_id": "",
       "version_major": 2,
       "version_minor": 0
      },
      "text/plain": [
       "TEST:   0%|          | 0/1000 [00:00<?, ?it/s]"
      ]
     },
     "metadata": {},
     "output_type": "display_data"
    },
    {
     "data": {
      "application/vnd.jupyter.widget-view+json": {
       "model_id": "",
       "version_major": 2,
       "version_minor": 0
      },
      "text/plain": [
       "TEST:   0%|          | 0/1000 [00:00<?, ?it/s]"
      ]
     },
     "metadata": {},
     "output_type": "display_data"
    },
    {
     "data": {
      "application/vnd.jupyter.widget-view+json": {
       "model_id": "",
       "version_major": 2,
       "version_minor": 0
      },
      "text/plain": [
       "SDP correlations:   0%|          | 0/20 [00:00<?, ?it/s]"
      ]
     },
     "metadata": {},
     "output_type": "display_data"
    },
    {
     "data": {
      "application/vnd.jupyter.widget-view+json": {
       "model_id": "",
       "version_major": 2,
       "version_minor": 0
      },
      "text/plain": [
       "TEST:   0%|          | 0/1000 [00:00<?, ?it/s]"
      ]
     },
     "metadata": {},
     "output_type": "display_data"
    },
    {
     "data": {
      "application/vnd.jupyter.widget-view+json": {
       "model_id": "",
       "version_major": 2,
       "version_minor": 0
      },
      "text/plain": [
       "TEST:   0%|          | 0/1000 [00:00<?, ?it/s]"
      ]
     },
     "metadata": {},
     "output_type": "display_data"
    },
    {
     "data": {
      "application/vnd.jupyter.widget-view+json": {
       "model_id": "",
       "version_major": 2,
       "version_minor": 0
      },
      "text/plain": [
       "SDP correlations:   0%|          | 0/20 [00:00<?, ?it/s]"
      ]
     },
     "metadata": {},
     "output_type": "display_data"
    },
    {
     "data": {
      "application/vnd.jupyter.widget-view+json": {
       "model_id": "",
       "version_major": 2,
       "version_minor": 0
      },
      "text/plain": [
       "TEST:   0%|          | 0/1000 [00:00<?, ?it/s]"
      ]
     },
     "metadata": {},
     "output_type": "display_data"
    },
    {
     "data": {
      "application/vnd.jupyter.widget-view+json": {
       "model_id": "",
       "version_major": 2,
       "version_minor": 0
      },
      "text/plain": [
       "TEST:   0%|          | 0/1000 [00:00<?, ?it/s]"
      ]
     },
     "metadata": {},
     "output_type": "display_data"
    },
    {
     "data": {
      "application/vnd.jupyter.widget-view+json": {
       "model_id": "",
       "version_major": 2,
       "version_minor": 0
      },
      "text/plain": [
       "SDP correlations:   0%|          | 0/20 [00:00<?, ?it/s]"
      ]
     },
     "metadata": {},
     "output_type": "display_data"
    },
    {
     "data": {
      "application/vnd.jupyter.widget-view+json": {
       "model_id": "",
       "version_major": 2,
       "version_minor": 0
      },
      "text/plain": [
       "TEST:   0%|          | 0/1000 [00:00<?, ?it/s]"
      ]
     },
     "metadata": {},
     "output_type": "display_data"
    },
    {
     "data": {
      "application/vnd.jupyter.widget-view+json": {
       "model_id": "",
       "version_major": 2,
       "version_minor": 0
      },
      "text/plain": [
       "TEST:   0%|          | 0/1000 [00:00<?, ?it/s]"
      ]
     },
     "metadata": {},
     "output_type": "display_data"
    },
    {
     "data": {
      "application/vnd.jupyter.widget-view+json": {
       "model_id": "",
       "version_major": 2,
       "version_minor": 0
      },
      "text/plain": [
       "SDP correlations:   0%|          | 0/20 [00:00<?, ?it/s]"
      ]
     },
     "metadata": {},
     "output_type": "display_data"
    },
    {
     "data": {
      "application/vnd.jupyter.widget-view+json": {
       "model_id": "",
       "version_major": 2,
       "version_minor": 0
      },
      "text/plain": [
       "TEST:   0%|          | 0/1000 [00:00<?, ?it/s]"
      ]
     },
     "metadata": {},
     "output_type": "display_data"
    },
    {
     "data": {
      "application/vnd.jupyter.widget-view+json": {
       "model_id": "",
       "version_major": 2,
       "version_minor": 0
      },
      "text/plain": [
       "TEST:   0%|          | 0/1000 [00:00<?, ?it/s]"
      ]
     },
     "metadata": {},
     "output_type": "display_data"
    },
    {
     "data": {
      "application/vnd.jupyter.widget-view+json": {
       "model_id": "",
       "version_major": 2,
       "version_minor": 0
      },
      "text/plain": [
       "SDP correlations:   0%|          | 0/20 [00:00<?, ?it/s]"
      ]
     },
     "metadata": {},
     "output_type": "display_data"
    },
    {
     "data": {
      "application/vnd.jupyter.widget-view+json": {
       "model_id": "",
       "version_major": 2,
       "version_minor": 0
      },
      "text/plain": [
       "TEST:   0%|          | 0/1000 [00:00<?, ?it/s]"
      ]
     },
     "metadata": {},
     "output_type": "display_data"
    },
    {
     "data": {
      "application/vnd.jupyter.widget-view+json": {
       "model_id": "",
       "version_major": 2,
       "version_minor": 0
      },
      "text/plain": [
       "TEST:   0%|          | 0/1000 [00:00<?, ?it/s]"
      ]
     },
     "metadata": {},
     "output_type": "display_data"
    },
    {
     "data": {
      "application/vnd.jupyter.widget-view+json": {
       "model_id": "",
       "version_major": 2,
       "version_minor": 0
      },
      "text/plain": [
       "SDP correlations:   0%|          | 0/20 [00:00<?, ?it/s]"
      ]
     },
     "metadata": {},
     "output_type": "display_data"
    },
    {
     "data": {
      "application/vnd.jupyter.widget-view+json": {
       "model_id": "",
       "version_major": 2,
       "version_minor": 0
      },
      "text/plain": [
       "TEST:   0%|          | 0/1000 [00:00<?, ?it/s]"
      ]
     },
     "metadata": {},
     "output_type": "display_data"
    },
    {
     "data": {
      "application/vnd.jupyter.widget-view+json": {
       "model_id": "",
       "version_major": 2,
       "version_minor": 0
      },
      "text/plain": [
       "TEST:   0%|          | 0/1000 [00:00<?, ?it/s]"
      ]
     },
     "metadata": {},
     "output_type": "display_data"
    },
    {
     "data": {
      "application/vnd.jupyter.widget-view+json": {
       "model_id": "",
       "version_major": 2,
       "version_minor": 0
      },
      "text/plain": [
       "SDP correlations:   0%|          | 0/20 [00:00<?, ?it/s]"
      ]
     },
     "metadata": {},
     "output_type": "display_data"
    },
    {
     "data": {
      "application/vnd.jupyter.widget-view+json": {
       "model_id": "",
       "version_major": 2,
       "version_minor": 0
      },
      "text/plain": [
       "TEST:   0%|          | 0/1000 [00:00<?, ?it/s]"
      ]
     },
     "metadata": {},
     "output_type": "display_data"
    },
    {
     "data": {
      "application/vnd.jupyter.widget-view+json": {
       "model_id": "",
       "version_major": 2,
       "version_minor": 0
      },
      "text/plain": [
       "TEST:   0%|          | 0/1000 [00:00<?, ?it/s]"
      ]
     },
     "metadata": {},
     "output_type": "display_data"
    },
    {
     "data": {
      "application/vnd.jupyter.widget-view+json": {
       "model_id": "",
       "version_major": 2,
       "version_minor": 0
      },
      "text/plain": [
       "SDP correlations:   0%|          | 0/20 [00:00<?, ?it/s]"
      ]
     },
     "metadata": {},
     "output_type": "display_data"
    },
    {
     "data": {
      "application/vnd.jupyter.widget-view+json": {
       "model_id": "",
       "version_major": 2,
       "version_minor": 0
      },
      "text/plain": [
       "TEST:   0%|          | 0/1000 [00:00<?, ?it/s]"
      ]
     },
     "metadata": {},
     "output_type": "display_data"
    },
    {
     "data": {
      "application/vnd.jupyter.widget-view+json": {
       "model_id": "",
       "version_major": 2,
       "version_minor": 0
      },
      "text/plain": [
       "TEST:   0%|          | 0/1000 [00:00<?, ?it/s]"
      ]
     },
     "metadata": {},
     "output_type": "display_data"
    },
    {
     "data": {
      "application/vnd.jupyter.widget-view+json": {
       "model_id": "",
       "version_major": 2,
       "version_minor": 0
      },
      "text/plain": [
       "SDP correlations:   0%|          | 0/20 [00:00<?, ?it/s]"
      ]
     },
     "metadata": {},
     "output_type": "display_data"
    },
    {
     "data": {
      "application/vnd.jupyter.widget-view+json": {
       "model_id": "",
       "version_major": 2,
       "version_minor": 0
      },
      "text/plain": [
       "TEST:   0%|          | 0/1000 [00:00<?, ?it/s]"
      ]
     },
     "metadata": {},
     "output_type": "display_data"
    },
    {
     "data": {
      "application/vnd.jupyter.widget-view+json": {
       "model_id": "",
       "version_major": 2,
       "version_minor": 0
      },
      "text/plain": [
       "TEST:   0%|          | 0/1000 [00:00<?, ?it/s]"
      ]
     },
     "metadata": {},
     "output_type": "display_data"
    },
    {
     "data": {
      "application/vnd.jupyter.widget-view+json": {
       "model_id": "",
       "version_major": 2,
       "version_minor": 0
      },
      "text/plain": [
       "SDP correlations:   0%|          | 0/20 [00:00<?, ?it/s]"
      ]
     },
     "metadata": {},
     "output_type": "display_data"
    },
    {
     "data": {
      "application/vnd.jupyter.widget-view+json": {
       "model_id": "",
       "version_major": 2,
       "version_minor": 0
      },
      "text/plain": [
       "TEST:   0%|          | 0/1000 [00:00<?, ?it/s]"
      ]
     },
     "metadata": {},
     "output_type": "display_data"
    },
    {
     "data": {
      "application/vnd.jupyter.widget-view+json": {
       "model_id": "",
       "version_major": 2,
       "version_minor": 0
      },
      "text/plain": [
       "TEST:   0%|          | 0/1000 [00:00<?, ?it/s]"
      ]
     },
     "metadata": {},
     "output_type": "display_data"
    },
    {
     "data": {
      "application/vnd.jupyter.widget-view+json": {
       "model_id": "",
       "version_major": 2,
       "version_minor": 0
      },
      "text/plain": [
       "SDP correlations:   0%|          | 0/20 [00:00<?, ?it/s]"
      ]
     },
     "metadata": {},
     "output_type": "display_data"
    },
    {
     "data": {
      "application/vnd.jupyter.widget-view+json": {
       "model_id": "",
       "version_major": 2,
       "version_minor": 0
      },
      "text/plain": [
       "TEST:   0%|          | 0/1000 [00:00<?, ?it/s]"
      ]
     },
     "metadata": {},
     "output_type": "display_data"
    },
    {
     "data": {
      "application/vnd.jupyter.widget-view+json": {
       "model_id": "",
       "version_major": 2,
       "version_minor": 0
      },
      "text/plain": [
       "TEST:   0%|          | 0/1000 [00:00<?, ?it/s]"
      ]
     },
     "metadata": {},
     "output_type": "display_data"
    },
    {
     "data": {
      "application/vnd.jupyter.widget-view+json": {
       "model_id": "",
       "version_major": 2,
       "version_minor": 0
      },
      "text/plain": [
       "SDP correlations:   0%|          | 0/20 [00:00<?, ?it/s]"
      ]
     },
     "metadata": {},
     "output_type": "display_data"
    },
    {
     "data": {
      "application/vnd.jupyter.widget-view+json": {
       "model_id": "",
       "version_major": 2,
       "version_minor": 0
      },
      "text/plain": [
       "TEST:   0%|          | 0/1000 [00:00<?, ?it/s]"
      ]
     },
     "metadata": {},
     "output_type": "display_data"
    },
    {
     "data": {
      "application/vnd.jupyter.widget-view+json": {
       "model_id": "",
       "version_major": 2,
       "version_minor": 0
      },
      "text/plain": [
       "TEST:   0%|          | 0/1000 [00:00<?, ?it/s]"
      ]
     },
     "metadata": {},
     "output_type": "display_data"
    },
    {
     "data": {
      "application/vnd.jupyter.widget-view+json": {
       "model_id": "",
       "version_major": 2,
       "version_minor": 0
      },
      "text/plain": [
       "SDP correlations:   0%|          | 0/20 [00:00<?, ?it/s]"
      ]
     },
     "metadata": {},
     "output_type": "display_data"
    },
    {
     "data": {
      "application/vnd.jupyter.widget-view+json": {
       "model_id": "",
       "version_major": 2,
       "version_minor": 0
      },
      "text/plain": [
       "TEST:   0%|          | 0/1000 [00:00<?, ?it/s]"
      ]
     },
     "metadata": {},
     "output_type": "display_data"
    },
    {
     "data": {
      "application/vnd.jupyter.widget-view+json": {
       "model_id": "",
       "version_major": 2,
       "version_minor": 0
      },
      "text/plain": [
       "TEST:   0%|          | 0/1000 [00:00<?, ?it/s]"
      ]
     },
     "metadata": {},
     "output_type": "display_data"
    },
    {
     "data": {
      "application/vnd.jupyter.widget-view+json": {
       "model_id": "",
       "version_major": 2,
       "version_minor": 0
      },
      "text/plain": [
       "SDP correlations:   0%|          | 0/20 [00:00<?, ?it/s]"
      ]
     },
     "metadata": {},
     "output_type": "display_data"
    },
    {
     "data": {
      "application/vnd.jupyter.widget-view+json": {
       "model_id": "",
       "version_major": 2,
       "version_minor": 0
      },
      "text/plain": [
       "TEST:   0%|          | 0/1000 [00:00<?, ?it/s]"
      ]
     },
     "metadata": {},
     "output_type": "display_data"
    },
    {
     "data": {
      "application/vnd.jupyter.widget-view+json": {
       "model_id": "",
       "version_major": 2,
       "version_minor": 0
      },
      "text/plain": [
       "TEST:   0%|          | 0/1000 [00:00<?, ?it/s]"
      ]
     },
     "metadata": {},
     "output_type": "display_data"
    },
    {
     "data": {
      "application/vnd.jupyter.widget-view+json": {
       "model_id": "",
       "version_major": 2,
       "version_minor": 0
      },
      "text/plain": [
       "SDP correlations:   0%|          | 0/20 [00:00<?, ?it/s]"
      ]
     },
     "metadata": {},
     "output_type": "display_data"
    },
    {
     "data": {
      "application/vnd.jupyter.widget-view+json": {
       "model_id": "",
       "version_major": 2,
       "version_minor": 0
      },
      "text/plain": [
       "TEST:   0%|          | 0/1000 [00:00<?, ?it/s]"
      ]
     },
     "metadata": {},
     "output_type": "display_data"
    },
    {
     "data": {
      "application/vnd.jupyter.widget-view+json": {
       "model_id": "",
       "version_major": 2,
       "version_minor": 0
      },
      "text/plain": [
       "TEST:   0%|          | 0/1000 [00:00<?, ?it/s]"
      ]
     },
     "metadata": {},
     "output_type": "display_data"
    },
    {
     "data": {
      "application/vnd.jupyter.widget-view+json": {
       "model_id": "",
       "version_major": 2,
       "version_minor": 0
      },
      "text/plain": [
       "SDP correlations:   0%|          | 0/20 [00:00<?, ?it/s]"
      ]
     },
     "metadata": {},
     "output_type": "display_data"
    },
    {
     "data": {
      "application/vnd.jupyter.widget-view+json": {
       "model_id": "",
       "version_major": 2,
       "version_minor": 0
      },
      "text/plain": [
       "TEST:   0%|          | 0/1000 [00:00<?, ?it/s]"
      ]
     },
     "metadata": {},
     "output_type": "display_data"
    },
    {
     "data": {
      "application/vnd.jupyter.widget-view+json": {
       "model_id": "",
       "version_major": 2,
       "version_minor": 0
      },
      "text/plain": [
       "TEST:   0%|          | 0/1000 [00:00<?, ?it/s]"
      ]
     },
     "metadata": {},
     "output_type": "display_data"
    },
    {
     "data": {
      "application/vnd.jupyter.widget-view+json": {
       "model_id": "",
       "version_major": 2,
       "version_minor": 0
      },
      "text/plain": [
       "SDP correlations:   0%|          | 0/20 [00:00<?, ?it/s]"
      ]
     },
     "metadata": {},
     "output_type": "display_data"
    },
    {
     "data": {
      "application/vnd.jupyter.widget-view+json": {
       "model_id": "",
       "version_major": 2,
       "version_minor": 0
      },
      "text/plain": [
       "TEST:   0%|          | 0/1000 [00:00<?, ?it/s]"
      ]
     },
     "metadata": {},
     "output_type": "display_data"
    },
    {
     "data": {
      "application/vnd.jupyter.widget-view+json": {
       "model_id": "",
       "version_major": 2,
       "version_minor": 0
      },
      "text/plain": [
       "TEST:   0%|          | 0/1000 [00:00<?, ?it/s]"
      ]
     },
     "metadata": {},
     "output_type": "display_data"
    },
    {
     "data": {
      "application/vnd.jupyter.widget-view+json": {
       "model_id": "",
       "version_major": 2,
       "version_minor": 0
      },
      "text/plain": [
       "SDP correlations:   0%|          | 0/20 [00:00<?, ?it/s]"
      ]
     },
     "metadata": {},
     "output_type": "display_data"
    },
    {
     "data": {
      "application/vnd.jupyter.widget-view+json": {
       "model_id": "",
       "version_major": 2,
       "version_minor": 0
      },
      "text/plain": [
       "TEST:   0%|          | 0/1000 [00:00<?, ?it/s]"
      ]
     },
     "metadata": {},
     "output_type": "display_data"
    },
    {
     "data": {
      "application/vnd.jupyter.widget-view+json": {
       "model_id": "",
       "version_major": 2,
       "version_minor": 0
      },
      "text/plain": [
       "TEST:   0%|          | 0/1000 [00:00<?, ?it/s]"
      ]
     },
     "metadata": {},
     "output_type": "display_data"
    },
    {
     "data": {
      "application/vnd.jupyter.widget-view+json": {
       "model_id": "",
       "version_major": 2,
       "version_minor": 0
      },
      "text/plain": [
       "SDP correlations:   0%|          | 0/20 [00:00<?, ?it/s]"
      ]
     },
     "metadata": {},
     "output_type": "display_data"
    },
    {
     "data": {
      "application/vnd.jupyter.widget-view+json": {
       "model_id": "",
       "version_major": 2,
       "version_minor": 0
      },
      "text/plain": [
       "TEST:   0%|          | 0/1000 [00:00<?, ?it/s]"
      ]
     },
     "metadata": {},
     "output_type": "display_data"
    },
    {
     "data": {
      "application/vnd.jupyter.widget-view+json": {
       "model_id": "",
       "version_major": 2,
       "version_minor": 0
      },
      "text/plain": [
       "TEST:   0%|          | 0/1000 [00:00<?, ?it/s]"
      ]
     },
     "metadata": {},
     "output_type": "display_data"
    },
    {
     "data": {
      "application/vnd.jupyter.widget-view+json": {
       "model_id": "",
       "version_major": 2,
       "version_minor": 0
      },
      "text/plain": [
       "SDP correlations:   0%|          | 0/20 [00:00<?, ?it/s]"
      ]
     },
     "metadata": {},
     "output_type": "display_data"
    },
    {
     "data": {
      "application/vnd.jupyter.widget-view+json": {
       "model_id": "",
       "version_major": 2,
       "version_minor": 0
      },
      "text/plain": [
       "TEST:   0%|          | 0/1000 [00:00<?, ?it/s]"
      ]
     },
     "metadata": {},
     "output_type": "display_data"
    },
    {
     "data": {
      "application/vnd.jupyter.widget-view+json": {
       "model_id": "",
       "version_major": 2,
       "version_minor": 0
      },
      "text/plain": [
       "TEST:   0%|          | 0/1000 [00:00<?, ?it/s]"
      ]
     },
     "metadata": {},
     "output_type": "display_data"
    },
    {
     "data": {
      "application/vnd.jupyter.widget-view+json": {
       "model_id": "",
       "version_major": 2,
       "version_minor": 0
      },
      "text/plain": [
       "SDP correlations:   0%|          | 0/20 [00:00<?, ?it/s]"
      ]
     },
     "metadata": {},
     "output_type": "display_data"
    },
    {
     "data": {
      "application/vnd.jupyter.widget-view+json": {
       "model_id": "",
       "version_major": 2,
       "version_minor": 0
      },
      "text/plain": [
       "TEST:   0%|          | 0/1000 [00:00<?, ?it/s]"
      ]
     },
     "metadata": {},
     "output_type": "display_data"
    },
    {
     "data": {
      "application/vnd.jupyter.widget-view+json": {
       "model_id": "",
       "version_major": 2,
       "version_minor": 0
      },
      "text/plain": [
       "TEST:   0%|          | 0/1000 [00:00<?, ?it/s]"
      ]
     },
     "metadata": {},
     "output_type": "display_data"
    },
    {
     "data": {
      "application/vnd.jupyter.widget-view+json": {
       "model_id": "",
       "version_major": 2,
       "version_minor": 0
      },
      "text/plain": [
       "SDP correlations:   0%|          | 0/20 [00:00<?, ?it/s]"
      ]
     },
     "metadata": {},
     "output_type": "display_data"
    },
    {
     "data": {
      "application/vnd.jupyter.widget-view+json": {
       "model_id": "",
       "version_major": 2,
       "version_minor": 0
      },
      "text/plain": [
       "TEST:   0%|          | 0/1000 [00:00<?, ?it/s]"
      ]
     },
     "metadata": {},
     "output_type": "display_data"
    },
    {
     "data": {
      "application/vnd.jupyter.widget-view+json": {
       "model_id": "",
       "version_major": 2,
       "version_minor": 0
      },
      "text/plain": [
       "TEST:   0%|          | 0/1000 [00:00<?, ?it/s]"
      ]
     },
     "metadata": {},
     "output_type": "display_data"
    },
    {
     "data": {
      "application/vnd.jupyter.widget-view+json": {
       "model_id": "",
       "version_major": 2,
       "version_minor": 0
      },
      "text/plain": [
       "SDP correlations:   0%|          | 0/20 [00:00<?, ?it/s]"
      ]
     },
     "metadata": {},
     "output_type": "display_data"
    },
    {
     "data": {
      "application/vnd.jupyter.widget-view+json": {
       "model_id": "",
       "version_major": 2,
       "version_minor": 0
      },
      "text/plain": [
       "TEST:   0%|          | 0/1000 [00:00<?, ?it/s]"
      ]
     },
     "metadata": {},
     "output_type": "display_data"
    },
    {
     "data": {
      "application/vnd.jupyter.widget-view+json": {
       "model_id": "",
       "version_major": 2,
       "version_minor": 0
      },
      "text/plain": [
       "TEST:   0%|          | 0/1000 [00:00<?, ?it/s]"
      ]
     },
     "metadata": {},
     "output_type": "display_data"
    },
    {
     "data": {
      "application/vnd.jupyter.widget-view+json": {
       "model_id": "",
       "version_major": 2,
       "version_minor": 0
      },
      "text/plain": [
       "SDP correlations:   0%|          | 0/20 [00:00<?, ?it/s]"
      ]
     },
     "metadata": {},
     "output_type": "display_data"
    },
    {
     "data": {
      "application/vnd.jupyter.widget-view+json": {
       "model_id": "",
       "version_major": 2,
       "version_minor": 0
      },
      "text/plain": [
       "TEST:   0%|          | 0/1000 [00:00<?, ?it/s]"
      ]
     },
     "metadata": {},
     "output_type": "display_data"
    },
    {
     "data": {
      "application/vnd.jupyter.widget-view+json": {
       "model_id": "",
       "version_major": 2,
       "version_minor": 0
      },
      "text/plain": [
       "TEST:   0%|          | 0/1000 [00:00<?, ?it/s]"
      ]
     },
     "metadata": {},
     "output_type": "display_data"
    },
    {
     "data": {
      "application/vnd.jupyter.widget-view+json": {
       "model_id": "",
       "version_major": 2,
       "version_minor": 0
      },
      "text/plain": [
       "SDP correlations:   0%|          | 0/20 [00:00<?, ?it/s]"
      ]
     },
     "metadata": {},
     "output_type": "display_data"
    },
    {
     "data": {
      "application/vnd.jupyter.widget-view+json": {
       "model_id": "",
       "version_major": 2,
       "version_minor": 0
      },
      "text/plain": [
       "TEST:   0%|          | 0/1000 [00:00<?, ?it/s]"
      ]
     },
     "metadata": {},
     "output_type": "display_data"
    },
    {
     "data": {
      "application/vnd.jupyter.widget-view+json": {
       "model_id": "",
       "version_major": 2,
       "version_minor": 0
      },
      "text/plain": [
       "TEST:   0%|          | 0/1000 [00:00<?, ?it/s]"
      ]
     },
     "metadata": {},
     "output_type": "display_data"
    },
    {
     "data": {
      "application/vnd.jupyter.widget-view+json": {
       "model_id": "",
       "version_major": 2,
       "version_minor": 0
      },
      "text/plain": [
       "SDP correlations:   0%|          | 0/20 [00:00<?, ?it/s]"
      ]
     },
     "metadata": {},
     "output_type": "display_data"
    },
    {
     "data": {
      "application/vnd.jupyter.widget-view+json": {
       "model_id": "",
       "version_major": 2,
       "version_minor": 0
      },
      "text/plain": [
       "TEST:   0%|          | 0/1000 [00:00<?, ?it/s]"
      ]
     },
     "metadata": {},
     "output_type": "display_data"
    },
    {
     "data": {
      "application/vnd.jupyter.widget-view+json": {
       "model_id": "",
       "version_major": 2,
       "version_minor": 0
      },
      "text/plain": [
       "TEST:   0%|          | 0/1000 [00:00<?, ?it/s]"
      ]
     },
     "metadata": {},
     "output_type": "display_data"
    },
    {
     "data": {
      "application/vnd.jupyter.widget-view+json": {
       "model_id": "",
       "version_major": 2,
       "version_minor": 0
      },
      "text/plain": [
       "SDP correlations:   0%|          | 0/20 [00:00<?, ?it/s]"
      ]
     },
     "metadata": {},
     "output_type": "display_data"
    },
    {
     "data": {
      "application/vnd.jupyter.widget-view+json": {
       "model_id": "",
       "version_major": 2,
       "version_minor": 0
      },
      "text/plain": [
       "TEST:   0%|          | 0/1000 [00:00<?, ?it/s]"
      ]
     },
     "metadata": {},
     "output_type": "display_data"
    },
    {
     "data": {
      "application/vnd.jupyter.widget-view+json": {
       "model_id": "",
       "version_major": 2,
       "version_minor": 0
      },
      "text/plain": [
       "TEST:   0%|          | 0/1000 [00:00<?, ?it/s]"
      ]
     },
     "metadata": {},
     "output_type": "display_data"
    },
    {
     "data": {
      "application/vnd.jupyter.widget-view+json": {
       "model_id": "",
       "version_major": 2,
       "version_minor": 0
      },
      "text/plain": [
       "SDP correlations:   0%|          | 0/20 [00:00<?, ?it/s]"
      ]
     },
     "metadata": {},
     "output_type": "display_data"
    },
    {
     "data": {
      "application/vnd.jupyter.widget-view+json": {
       "model_id": "",
       "version_major": 2,
       "version_minor": 0
      },
      "text/plain": [
       "TEST:   0%|          | 0/1000 [00:00<?, ?it/s]"
      ]
     },
     "metadata": {},
     "output_type": "display_data"
    },
    {
     "data": {
      "application/vnd.jupyter.widget-view+json": {
       "model_id": "",
       "version_major": 2,
       "version_minor": 0
      },
      "text/plain": [
       "TEST:   0%|          | 0/1000 [00:00<?, ?it/s]"
      ]
     },
     "metadata": {},
     "output_type": "display_data"
    },
    {
     "data": {
      "application/vnd.jupyter.widget-view+json": {
       "model_id": "",
       "version_major": 2,
       "version_minor": 0
      },
      "text/plain": [
       "SDP correlations:   0%|          | 0/20 [00:00<?, ?it/s]"
      ]
     },
     "metadata": {},
     "output_type": "display_data"
    },
    {
     "data": {
      "application/vnd.jupyter.widget-view+json": {
       "model_id": "",
       "version_major": 2,
       "version_minor": 0
      },
      "text/plain": [
       "TEST:   0%|          | 0/1000 [00:00<?, ?it/s]"
      ]
     },
     "metadata": {},
     "output_type": "display_data"
    },
    {
     "data": {
      "application/vnd.jupyter.widget-view+json": {
       "model_id": "",
       "version_major": 2,
       "version_minor": 0
      },
      "text/plain": [
       "TEST:   0%|          | 0/1000 [00:00<?, ?it/s]"
      ]
     },
     "metadata": {},
     "output_type": "display_data"
    },
    {
     "data": {
      "application/vnd.jupyter.widget-view+json": {
       "model_id": "",
       "version_major": 2,
       "version_minor": 0
      },
      "text/plain": [
       "SDP correlations:   0%|          | 0/20 [00:00<?, ?it/s]"
      ]
     },
     "metadata": {},
     "output_type": "display_data"
    },
    {
     "data": {
      "application/vnd.jupyter.widget-view+json": {
       "model_id": "",
       "version_major": 2,
       "version_minor": 0
      },
      "text/plain": [
       "TEST:   0%|          | 0/1000 [00:00<?, ?it/s]"
      ]
     },
     "metadata": {},
     "output_type": "display_data"
    },
    {
     "data": {
      "application/vnd.jupyter.widget-view+json": {
       "model_id": "",
       "version_major": 2,
       "version_minor": 0
      },
      "text/plain": [
       "TEST:   0%|          | 0/1000 [00:00<?, ?it/s]"
      ]
     },
     "metadata": {},
     "output_type": "display_data"
    },
    {
     "data": {
      "application/vnd.jupyter.widget-view+json": {
       "model_id": "",
       "version_major": 2,
       "version_minor": 0
      },
      "text/plain": [
       "SDP correlations:   0%|          | 0/20 [00:00<?, ?it/s]"
      ]
     },
     "metadata": {},
     "output_type": "display_data"
    },
    {
     "data": {
      "application/vnd.jupyter.widget-view+json": {
       "model_id": "",
       "version_major": 2,
       "version_minor": 0
      },
      "text/plain": [
       "TEST:   0%|          | 0/1000 [00:00<?, ?it/s]"
      ]
     },
     "metadata": {},
     "output_type": "display_data"
    },
    {
     "data": {
      "application/vnd.jupyter.widget-view+json": {
       "model_id": "",
       "version_major": 2,
       "version_minor": 0
      },
      "text/plain": [
       "TEST:   0%|          | 0/1000 [00:00<?, ?it/s]"
      ]
     },
     "metadata": {},
     "output_type": "display_data"
    },
    {
     "data": {
      "application/vnd.jupyter.widget-view+json": {
       "model_id": "",
       "version_major": 2,
       "version_minor": 0
      },
      "text/plain": [
       "SDP correlations:   0%|          | 0/20 [00:00<?, ?it/s]"
      ]
     },
     "metadata": {},
     "output_type": "display_data"
    },
    {
     "data": {
      "application/vnd.jupyter.widget-view+json": {
       "model_id": "",
       "version_major": 2,
       "version_minor": 0
      },
      "text/plain": [
       "TEST:   0%|          | 0/1000 [00:00<?, ?it/s]"
      ]
     },
     "metadata": {},
     "output_type": "display_data"
    },
    {
     "data": {
      "application/vnd.jupyter.widget-view+json": {
       "model_id": "",
       "version_major": 2,
       "version_minor": 0
      },
      "text/plain": [
       "TEST:   0%|          | 0/1000 [00:00<?, ?it/s]"
      ]
     },
     "metadata": {},
     "output_type": "display_data"
    },
    {
     "data": {
      "application/vnd.jupyter.widget-view+json": {
       "model_id": "",
       "version_major": 2,
       "version_minor": 0
      },
      "text/plain": [
       "SDP correlations:   0%|          | 0/20 [00:00<?, ?it/s]"
      ]
     },
     "metadata": {},
     "output_type": "display_data"
    },
    {
     "data": {
      "application/vnd.jupyter.widget-view+json": {
       "model_id": "",
       "version_major": 2,
       "version_minor": 0
      },
      "text/plain": [
       "TEST:   0%|          | 0/1000 [00:00<?, ?it/s]"
      ]
     },
     "metadata": {},
     "output_type": "display_data"
    },
    {
     "data": {
      "application/vnd.jupyter.widget-view+json": {
       "model_id": "",
       "version_major": 2,
       "version_minor": 0
      },
      "text/plain": [
       "TEST:   0%|          | 0/1000 [00:00<?, ?it/s]"
      ]
     },
     "metadata": {},
     "output_type": "display_data"
    },
    {
     "data": {
      "application/vnd.jupyter.widget-view+json": {
       "model_id": "",
       "version_major": 2,
       "version_minor": 0
      },
      "text/plain": [
       "SDP correlations:   0%|          | 0/20 [00:00<?, ?it/s]"
      ]
     },
     "metadata": {},
     "output_type": "display_data"
    },
    {
     "data": {
      "application/vnd.jupyter.widget-view+json": {
       "model_id": "",
       "version_major": 2,
       "version_minor": 0
      },
      "text/plain": [
       "TEST:   0%|          | 0/1000 [00:00<?, ?it/s]"
      ]
     },
     "metadata": {},
     "output_type": "display_data"
    },
    {
     "data": {
      "application/vnd.jupyter.widget-view+json": {
       "model_id": "",
       "version_major": 2,
       "version_minor": 0
      },
      "text/plain": [
       "TEST:   0%|          | 0/1000 [00:00<?, ?it/s]"
      ]
     },
     "metadata": {},
     "output_type": "display_data"
    },
    {
     "data": {
      "application/vnd.jupyter.widget-view+json": {
       "model_id": "",
       "version_major": 2,
       "version_minor": 0
      },
      "text/plain": [
       "SDP correlations:   0%|          | 0/20 [00:00<?, ?it/s]"
      ]
     },
     "metadata": {},
     "output_type": "display_data"
    },
    {
     "data": {
      "application/vnd.jupyter.widget-view+json": {
       "model_id": "",
       "version_major": 2,
       "version_minor": 0
      },
      "text/plain": [
       "TEST:   0%|          | 0/1000 [00:00<?, ?it/s]"
      ]
     },
     "metadata": {},
     "output_type": "display_data"
    },
    {
     "data": {
      "application/vnd.jupyter.widget-view+json": {
       "model_id": "",
       "version_major": 2,
       "version_minor": 0
      },
      "text/plain": [
       "TEST:   0%|          | 0/1000 [00:00<?, ?it/s]"
      ]
     },
     "metadata": {},
     "output_type": "display_data"
    },
    {
     "data": {
      "application/vnd.jupyter.widget-view+json": {
       "model_id": "",
       "version_major": 2,
       "version_minor": 0
      },
      "text/plain": [
       "SDP correlations:   0%|          | 0/20 [00:00<?, ?it/s]"
      ]
     },
     "metadata": {},
     "output_type": "display_data"
    },
    {
     "data": {
      "application/vnd.jupyter.widget-view+json": {
       "model_id": "",
       "version_major": 2,
       "version_minor": 0
      },
      "text/plain": [
       "TEST:   0%|          | 0/1000 [00:00<?, ?it/s]"
      ]
     },
     "metadata": {},
     "output_type": "display_data"
    },
    {
     "data": {
      "application/vnd.jupyter.widget-view+json": {
       "model_id": "",
       "version_major": 2,
       "version_minor": 0
      },
      "text/plain": [
       "TEST:   0%|          | 0/1000 [00:00<?, ?it/s]"
      ]
     },
     "metadata": {},
     "output_type": "display_data"
    },
    {
     "data": {
      "application/vnd.jupyter.widget-view+json": {
       "model_id": "",
       "version_major": 2,
       "version_minor": 0
      },
      "text/plain": [
       "SDP correlations:   0%|          | 0/20 [00:00<?, ?it/s]"
      ]
     },
     "metadata": {},
     "output_type": "display_data"
    },
    {
     "data": {
      "application/vnd.jupyter.widget-view+json": {
       "model_id": "",
       "version_major": 2,
       "version_minor": 0
      },
      "text/plain": [
       "TEST:   0%|          | 0/1000 [00:00<?, ?it/s]"
      ]
     },
     "metadata": {},
     "output_type": "display_data"
    },
    {
     "data": {
      "application/vnd.jupyter.widget-view+json": {
       "model_id": "",
       "version_major": 2,
       "version_minor": 0
      },
      "text/plain": [
       "TEST:   0%|          | 0/1000 [00:00<?, ?it/s]"
      ]
     },
     "metadata": {},
     "output_type": "display_data"
    },
    {
     "data": {
      "application/vnd.jupyter.widget-view+json": {
       "model_id": "",
       "version_major": 2,
       "version_minor": 0
      },
      "text/plain": [
       "SDP correlations:   0%|          | 0/20 [00:00<?, ?it/s]"
      ]
     },
     "metadata": {},
     "output_type": "display_data"
    },
    {
     "data": {
      "application/vnd.jupyter.widget-view+json": {
       "model_id": "",
       "version_major": 2,
       "version_minor": 0
      },
      "text/plain": [
       "TEST:   0%|          | 0/1000 [00:00<?, ?it/s]"
      ]
     },
     "metadata": {},
     "output_type": "display_data"
    },
    {
     "data": {
      "application/vnd.jupyter.widget-view+json": {
       "model_id": "",
       "version_major": 2,
       "version_minor": 0
      },
      "text/plain": [
       "TEST:   0%|          | 0/1000 [00:00<?, ?it/s]"
      ]
     },
     "metadata": {},
     "output_type": "display_data"
    },
    {
     "data": {
      "application/vnd.jupyter.widget-view+json": {
       "model_id": "",
       "version_major": 2,
       "version_minor": 0
      },
      "text/plain": [
       "SDP correlations:   0%|          | 0/20 [00:00<?, ?it/s]"
      ]
     },
     "metadata": {},
     "output_type": "display_data"
    },
    {
     "data": {
      "application/vnd.jupyter.widget-view+json": {
       "model_id": "",
       "version_major": 2,
       "version_minor": 0
      },
      "text/plain": [
       "TEST:   0%|          | 0/1000 [00:00<?, ?it/s]"
      ]
     },
     "metadata": {},
     "output_type": "display_data"
    },
    {
     "data": {
      "application/vnd.jupyter.widget-view+json": {
       "model_id": "",
       "version_major": 2,
       "version_minor": 0
      },
      "text/plain": [
       "TEST:   0%|          | 0/1000 [00:00<?, ?it/s]"
      ]
     },
     "metadata": {},
     "output_type": "display_data"
    },
    {
     "data": {
      "application/vnd.jupyter.widget-view+json": {
       "model_id": "",
       "version_major": 2,
       "version_minor": 0
      },
      "text/plain": [
       "SDP correlations:   0%|          | 0/20 [00:00<?, ?it/s]"
      ]
     },
     "metadata": {},
     "output_type": "display_data"
    },
    {
     "data": {
      "application/vnd.jupyter.widget-view+json": {
       "model_id": "",
       "version_major": 2,
       "version_minor": 0
      },
      "text/plain": [
       "TEST:   0%|          | 0/1000 [00:00<?, ?it/s]"
      ]
     },
     "metadata": {},
     "output_type": "display_data"
    },
    {
     "data": {
      "application/vnd.jupyter.widget-view+json": {
       "model_id": "",
       "version_major": 2,
       "version_minor": 0
      },
      "text/plain": [
       "TEST:   0%|          | 0/1000 [00:00<?, ?it/s]"
      ]
     },
     "metadata": {},
     "output_type": "display_data"
    },
    {
     "data": {
      "application/vnd.jupyter.widget-view+json": {
       "model_id": "",
       "version_major": 2,
       "version_minor": 0
      },
      "text/plain": [
       "SDP correlations:   0%|          | 0/20 [00:00<?, ?it/s]"
      ]
     },
     "metadata": {},
     "output_type": "display_data"
    },
    {
     "data": {
      "application/vnd.jupyter.widget-view+json": {
       "model_id": "",
       "version_major": 2,
       "version_minor": 0
      },
      "text/plain": [
       "TEST:   0%|          | 0/1000 [00:00<?, ?it/s]"
      ]
     },
     "metadata": {},
     "output_type": "display_data"
    },
    {
     "data": {
      "application/vnd.jupyter.widget-view+json": {
       "model_id": "",
       "version_major": 2,
       "version_minor": 0
      },
      "text/plain": [
       "TEST:   0%|          | 0/1000 [00:00<?, ?it/s]"
      ]
     },
     "metadata": {},
     "output_type": "display_data"
    },
    {
     "data": {
      "application/vnd.jupyter.widget-view+json": {
       "model_id": "",
       "version_major": 2,
       "version_minor": 0
      },
      "text/plain": [
       "SDP correlations:   0%|          | 0/20 [00:00<?, ?it/s]"
      ]
     },
     "metadata": {},
     "output_type": "display_data"
    },
    {
     "data": {
      "application/vnd.jupyter.widget-view+json": {
       "model_id": "",
       "version_major": 2,
       "version_minor": 0
      },
      "text/plain": [
       "TEST:   0%|          | 0/1000 [00:00<?, ?it/s]"
      ]
     },
     "metadata": {},
     "output_type": "display_data"
    },
    {
     "data": {
      "application/vnd.jupyter.widget-view+json": {
       "model_id": "",
       "version_major": 2,
       "version_minor": 0
      },
      "text/plain": [
       "TEST:   0%|          | 0/1000 [00:00<?, ?it/s]"
      ]
     },
     "metadata": {},
     "output_type": "display_data"
    },
    {
     "data": {
      "application/vnd.jupyter.widget-view+json": {
       "model_id": "",
       "version_major": 2,
       "version_minor": 0
      },
      "text/plain": [
       "SDP correlations:   0%|          | 0/20 [00:00<?, ?it/s]"
      ]
     },
     "metadata": {},
     "output_type": "display_data"
    },
    {
     "data": {
      "application/vnd.jupyter.widget-view+json": {
       "model_id": "",
       "version_major": 2,
       "version_minor": 0
      },
      "text/plain": [
       "TEST:   0%|          | 0/1000 [00:00<?, ?it/s]"
      ]
     },
     "metadata": {},
     "output_type": "display_data"
    },
    {
     "data": {
      "application/vnd.jupyter.widget-view+json": {
       "model_id": "",
       "version_major": 2,
       "version_minor": 0
      },
      "text/plain": [
       "TEST:   0%|          | 0/1000 [00:00<?, ?it/s]"
      ]
     },
     "metadata": {},
     "output_type": "display_data"
    },
    {
     "data": {
      "application/vnd.jupyter.widget-view+json": {
       "model_id": "",
       "version_major": 2,
       "version_minor": 0
      },
      "text/plain": [
       "SDP correlations:   0%|          | 0/20 [00:00<?, ?it/s]"
      ]
     },
     "metadata": {},
     "output_type": "display_data"
    },
    {
     "data": {
      "application/vnd.jupyter.widget-view+json": {
       "model_id": "",
       "version_major": 2,
       "version_minor": 0
      },
      "text/plain": [
       "TEST:   0%|          | 0/1000 [00:00<?, ?it/s]"
      ]
     },
     "metadata": {},
     "output_type": "display_data"
    },
    {
     "data": {
      "application/vnd.jupyter.widget-view+json": {
       "model_id": "",
       "version_major": 2,
       "version_minor": 0
      },
      "text/plain": [
       "TEST:   0%|          | 0/1000 [00:00<?, ?it/s]"
      ]
     },
     "metadata": {},
     "output_type": "display_data"
    },
    {
     "data": {
      "application/vnd.jupyter.widget-view+json": {
       "model_id": "",
       "version_major": 2,
       "version_minor": 0
      },
      "text/plain": [
       "SDP correlations:   0%|          | 0/20 [00:00<?, ?it/s]"
      ]
     },
     "metadata": {},
     "output_type": "display_data"
    },
    {
     "data": {
      "application/vnd.jupyter.widget-view+json": {
       "model_id": "",
       "version_major": 2,
       "version_minor": 0
      },
      "text/plain": [
       "TEST:   0%|          | 0/1000 [00:00<?, ?it/s]"
      ]
     },
     "metadata": {},
     "output_type": "display_data"
    },
    {
     "data": {
      "application/vnd.jupyter.widget-view+json": {
       "model_id": "",
       "version_major": 2,
       "version_minor": 0
      },
      "text/plain": [
       "TEST:   0%|          | 0/1000 [00:00<?, ?it/s]"
      ]
     },
     "metadata": {},
     "output_type": "display_data"
    },
    {
     "data": {
      "application/vnd.jupyter.widget-view+json": {
       "model_id": "",
       "version_major": 2,
       "version_minor": 0
      },
      "text/plain": [
       "SDP correlations:   0%|          | 0/20 [00:00<?, ?it/s]"
      ]
     },
     "metadata": {},
     "output_type": "display_data"
    },
    {
     "data": {
      "application/vnd.jupyter.widget-view+json": {
       "model_id": "",
       "version_major": 2,
       "version_minor": 0
      },
      "text/plain": [
       "TEST:   0%|          | 0/1000 [00:00<?, ?it/s]"
      ]
     },
     "metadata": {},
     "output_type": "display_data"
    },
    {
     "data": {
      "application/vnd.jupyter.widget-view+json": {
       "model_id": "",
       "version_major": 2,
       "version_minor": 0
      },
      "text/plain": [
       "TEST:   0%|          | 0/1000 [00:00<?, ?it/s]"
      ]
     },
     "metadata": {},
     "output_type": "display_data"
    },
    {
     "data": {
      "application/vnd.jupyter.widget-view+json": {
       "model_id": "",
       "version_major": 2,
       "version_minor": 0
      },
      "text/plain": [
       "SDP correlations:   0%|          | 0/20 [00:00<?, ?it/s]"
      ]
     },
     "metadata": {},
     "output_type": "display_data"
    },
    {
     "data": {
      "application/vnd.jupyter.widget-view+json": {
       "model_id": "",
       "version_major": 2,
       "version_minor": 0
      },
      "text/plain": [
       "TEST:   0%|          | 0/1000 [00:00<?, ?it/s]"
      ]
     },
     "metadata": {},
     "output_type": "display_data"
    },
    {
     "data": {
      "application/vnd.jupyter.widget-view+json": {
       "model_id": "",
       "version_major": 2,
       "version_minor": 0
      },
      "text/plain": [
       "TEST:   0%|          | 0/1000 [00:00<?, ?it/s]"
      ]
     },
     "metadata": {},
     "output_type": "display_data"
    },
    {
     "data": {
      "application/vnd.jupyter.widget-view+json": {
       "model_id": "",
       "version_major": 2,
       "version_minor": 0
      },
      "text/plain": [
       "SDP correlations:   0%|          | 0/20 [00:00<?, ?it/s]"
      ]
     },
     "metadata": {},
     "output_type": "display_data"
    },
    {
     "data": {
      "application/vnd.jupyter.widget-view+json": {
       "model_id": "",
       "version_major": 2,
       "version_minor": 0
      },
      "text/plain": [
       "TEST:   0%|          | 0/1000 [00:00<?, ?it/s]"
      ]
     },
     "metadata": {},
     "output_type": "display_data"
    },
    {
     "data": {
      "application/vnd.jupyter.widget-view+json": {
       "model_id": "",
       "version_major": 2,
       "version_minor": 0
      },
      "text/plain": [
       "TEST:   0%|          | 0/1000 [00:00<?, ?it/s]"
      ]
     },
     "metadata": {},
     "output_type": "display_data"
    },
    {
     "data": {
      "application/vnd.jupyter.widget-view+json": {
       "model_id": "",
       "version_major": 2,
       "version_minor": 0
      },
      "text/plain": [
       "SDP correlations:   0%|          | 0/20 [00:00<?, ?it/s]"
      ]
     },
     "metadata": {},
     "output_type": "display_data"
    },
    {
     "data": {
      "application/vnd.jupyter.widget-view+json": {
       "model_id": "",
       "version_major": 2,
       "version_minor": 0
      },
      "text/plain": [
       "TEST:   0%|          | 0/1000 [00:00<?, ?it/s]"
      ]
     },
     "metadata": {},
     "output_type": "display_data"
    },
    {
     "data": {
      "application/vnd.jupyter.widget-view+json": {
       "model_id": "",
       "version_major": 2,
       "version_minor": 0
      },
      "text/plain": [
       "TEST:   0%|          | 0/1000 [00:00<?, ?it/s]"
      ]
     },
     "metadata": {},
     "output_type": "display_data"
    },
    {
     "data": {
      "application/vnd.jupyter.widget-view+json": {
       "model_id": "",
       "version_major": 2,
       "version_minor": 0
      },
      "text/plain": [
       "SDP correlations:   0%|          | 0/20 [00:00<?, ?it/s]"
      ]
     },
     "metadata": {},
     "output_type": "display_data"
    },
    {
     "data": {
      "application/vnd.jupyter.widget-view+json": {
       "model_id": "",
       "version_major": 2,
       "version_minor": 0
      },
      "text/plain": [
       "TEST:   0%|          | 0/1000 [00:00<?, ?it/s]"
      ]
     },
     "metadata": {},
     "output_type": "display_data"
    },
    {
     "data": {
      "application/vnd.jupyter.widget-view+json": {
       "model_id": "",
       "version_major": 2,
       "version_minor": 0
      },
      "text/plain": [
       "TEST:   0%|          | 0/1000 [00:00<?, ?it/s]"
      ]
     },
     "metadata": {},
     "output_type": "display_data"
    },
    {
     "data": {
      "application/vnd.jupyter.widget-view+json": {
       "model_id": "",
       "version_major": 2,
       "version_minor": 0
      },
      "text/plain": [
       "SDP correlations:   0%|          | 0/20 [00:00<?, ?it/s]"
      ]
     },
     "metadata": {},
     "output_type": "display_data"
    },
    {
     "data": {
      "application/vnd.jupyter.widget-view+json": {
       "model_id": "",
       "version_major": 2,
       "version_minor": 0
      },
      "text/plain": [
       "TEST:   0%|          | 0/1000 [00:00<?, ?it/s]"
      ]
     },
     "metadata": {},
     "output_type": "display_data"
    },
    {
     "data": {
      "application/vnd.jupyter.widget-view+json": {
       "model_id": "",
       "version_major": 2,
       "version_minor": 0
      },
      "text/plain": [
       "TEST:   0%|          | 0/1000 [00:00<?, ?it/s]"
      ]
     },
     "metadata": {},
     "output_type": "display_data"
    },
    {
     "data": {
      "application/vnd.jupyter.widget-view+json": {
       "model_id": "",
       "version_major": 2,
       "version_minor": 0
      },
      "text/plain": [
       "SDP correlations:   0%|          | 0/20 [00:00<?, ?it/s]"
      ]
     },
     "metadata": {},
     "output_type": "display_data"
    },
    {
     "data": {
      "application/vnd.jupyter.widget-view+json": {
       "model_id": "",
       "version_major": 2,
       "version_minor": 0
      },
      "text/plain": [
       "TEST:   0%|          | 0/1000 [00:00<?, ?it/s]"
      ]
     },
     "metadata": {},
     "output_type": "display_data"
    },
    {
     "data": {
      "application/vnd.jupyter.widget-view+json": {
       "model_id": "",
       "version_major": 2,
       "version_minor": 0
      },
      "text/plain": [
       "TEST:   0%|          | 0/1000 [00:00<?, ?it/s]"
      ]
     },
     "metadata": {},
     "output_type": "display_data"
    },
    {
     "data": {
      "application/vnd.jupyter.widget-view+json": {
       "model_id": "",
       "version_major": 2,
       "version_minor": 0
      },
      "text/plain": [
       "SDP correlations:   0%|          | 0/20 [00:00<?, ?it/s]"
      ]
     },
     "metadata": {},
     "output_type": "display_data"
    },
    {
     "data": {
      "application/vnd.jupyter.widget-view+json": {
       "model_id": "",
       "version_major": 2,
       "version_minor": 0
      },
      "text/plain": [
       "TEST:   0%|          | 0/1000 [00:00<?, ?it/s]"
      ]
     },
     "metadata": {},
     "output_type": "display_data"
    },
    {
     "data": {
      "application/vnd.jupyter.widget-view+json": {
       "model_id": "",
       "version_major": 2,
       "version_minor": 0
      },
      "text/plain": [
       "TEST:   0%|          | 0/1000 [00:00<?, ?it/s]"
      ]
     },
     "metadata": {},
     "output_type": "display_data"
    },
    {
     "data": {
      "application/vnd.jupyter.widget-view+json": {
       "model_id": "",
       "version_major": 2,
       "version_minor": 0
      },
      "text/plain": [
       "SDP correlations:   0%|          | 0/20 [00:00<?, ?it/s]"
      ]
     },
     "metadata": {},
     "output_type": "display_data"
    },
    {
     "data": {
      "application/vnd.jupyter.widget-view+json": {
       "model_id": "",
       "version_major": 2,
       "version_minor": 0
      },
      "text/plain": [
       "TEST:   0%|          | 0/1000 [00:00<?, ?it/s]"
      ]
     },
     "metadata": {},
     "output_type": "display_data"
    },
    {
     "data": {
      "application/vnd.jupyter.widget-view+json": {
       "model_id": "",
       "version_major": 2,
       "version_minor": 0
      },
      "text/plain": [
       "TEST:   0%|          | 0/1000 [00:00<?, ?it/s]"
      ]
     },
     "metadata": {},
     "output_type": "display_data"
    },
    {
     "data": {
      "application/vnd.jupyter.widget-view+json": {
       "model_id": "",
       "version_major": 2,
       "version_minor": 0
      },
      "text/plain": [
       "SDP correlations:   0%|          | 0/20 [00:00<?, ?it/s]"
      ]
     },
     "metadata": {},
     "output_type": "display_data"
    },
    {
     "data": {
      "application/vnd.jupyter.widget-view+json": {
       "model_id": "",
       "version_major": 2,
       "version_minor": 0
      },
      "text/plain": [
       "TEST:   0%|          | 0/1000 [00:00<?, ?it/s]"
      ]
     },
     "metadata": {},
     "output_type": "display_data"
    },
    {
     "data": {
      "application/vnd.jupyter.widget-view+json": {
       "model_id": "",
       "version_major": 2,
       "version_minor": 0
      },
      "text/plain": [
       "TEST:   0%|          | 0/1000 [00:00<?, ?it/s]"
      ]
     },
     "metadata": {},
     "output_type": "display_data"
    },
    {
     "data": {
      "application/vnd.jupyter.widget-view+json": {
       "model_id": "",
       "version_major": 2,
       "version_minor": 0
      },
      "text/plain": [
       "SDP correlations:   0%|          | 0/20 [00:00<?, ?it/s]"
      ]
     },
     "metadata": {},
     "output_type": "display_data"
    },
    {
     "data": {
      "application/vnd.jupyter.widget-view+json": {
       "model_id": "",
       "version_major": 2,
       "version_minor": 0
      },
      "text/plain": [
       "TEST:   0%|          | 0/1000 [00:00<?, ?it/s]"
      ]
     },
     "metadata": {},
     "output_type": "display_data"
    },
    {
     "data": {
      "application/vnd.jupyter.widget-view+json": {
       "model_id": "",
       "version_major": 2,
       "version_minor": 0
      },
      "text/plain": [
       "TEST:   0%|          | 0/1000 [00:00<?, ?it/s]"
      ]
     },
     "metadata": {},
     "output_type": "display_data"
    },
    {
     "data": {
      "application/vnd.jupyter.widget-view+json": {
       "model_id": "",
       "version_major": 2,
       "version_minor": 0
      },
      "text/plain": [
       "SDP correlations:   0%|          | 0/20 [00:00<?, ?it/s]"
      ]
     },
     "metadata": {},
     "output_type": "display_data"
    },
    {
     "data": {
      "application/vnd.jupyter.widget-view+json": {
       "model_id": "",
       "version_major": 2,
       "version_minor": 0
      },
      "text/plain": [
       "TEST:   0%|          | 0/1000 [00:00<?, ?it/s]"
      ]
     },
     "metadata": {},
     "output_type": "display_data"
    },
    {
     "data": {
      "application/vnd.jupyter.widget-view+json": {
       "model_id": "",
       "version_major": 2,
       "version_minor": 0
      },
      "text/plain": [
       "TEST:   0%|          | 0/1000 [00:00<?, ?it/s]"
      ]
     },
     "metadata": {},
     "output_type": "display_data"
    },
    {
     "data": {
      "application/vnd.jupyter.widget-view+json": {
       "model_id": "",
       "version_major": 2,
       "version_minor": 0
      },
      "text/plain": [
       "SDP correlations:   0%|          | 0/20 [00:00<?, ?it/s]"
      ]
     },
     "metadata": {},
     "output_type": "display_data"
    },
    {
     "data": {
      "application/vnd.jupyter.widget-view+json": {
       "model_id": "",
       "version_major": 2,
       "version_minor": 0
      },
      "text/plain": [
       "TEST:   0%|          | 0/1000 [00:00<?, ?it/s]"
      ]
     },
     "metadata": {},
     "output_type": "display_data"
    },
    {
     "data": {
      "application/vnd.jupyter.widget-view+json": {
       "model_id": "",
       "version_major": 2,
       "version_minor": 0
      },
      "text/plain": [
       "TEST:   0%|          | 0/1000 [00:00<?, ?it/s]"
      ]
     },
     "metadata": {},
     "output_type": "display_data"
    },
    {
     "data": {
      "application/vnd.jupyter.widget-view+json": {
       "model_id": "",
       "version_major": 2,
       "version_minor": 0
      },
      "text/plain": [
       "SDP correlations:   0%|          | 0/20 [00:00<?, ?it/s]"
      ]
     },
     "metadata": {},
     "output_type": "display_data"
    },
    {
     "data": {
      "application/vnd.jupyter.widget-view+json": {
       "model_id": "",
       "version_major": 2,
       "version_minor": 0
      },
      "text/plain": [
       "TEST:   0%|          | 0/1000 [00:00<?, ?it/s]"
      ]
     },
     "metadata": {},
     "output_type": "display_data"
    },
    {
     "data": {
      "application/vnd.jupyter.widget-view+json": {
       "model_id": "",
       "version_major": 2,
       "version_minor": 0
      },
      "text/plain": [
       "TEST:   0%|          | 0/1000 [00:00<?, ?it/s]"
      ]
     },
     "metadata": {},
     "output_type": "display_data"
    },
    {
     "data": {
      "application/vnd.jupyter.widget-view+json": {
       "model_id": "",
       "version_major": 2,
       "version_minor": 0
      },
      "text/plain": [
       "SDP correlations:   0%|          | 0/20 [00:00<?, ?it/s]"
      ]
     },
     "metadata": {},
     "output_type": "display_data"
    },
    {
     "data": {
      "application/vnd.jupyter.widget-view+json": {
       "model_id": "",
       "version_major": 2,
       "version_minor": 0
      },
      "text/plain": [
       "TEST:   0%|          | 0/1000 [00:00<?, ?it/s]"
      ]
     },
     "metadata": {},
     "output_type": "display_data"
    },
    {
     "data": {
      "application/vnd.jupyter.widget-view+json": {
       "model_id": "",
       "version_major": 2,
       "version_minor": 0
      },
      "text/plain": [
       "TEST:   0%|          | 0/1000 [00:00<?, ?it/s]"
      ]
     },
     "metadata": {},
     "output_type": "display_data"
    },
    {
     "data": {
      "application/vnd.jupyter.widget-view+json": {
       "model_id": "",
       "version_major": 2,
       "version_minor": 0
      },
      "text/plain": [
       "SDP correlations:   0%|          | 0/20 [00:00<?, ?it/s]"
      ]
     },
     "metadata": {},
     "output_type": "display_data"
    },
    {
     "data": {
      "application/vnd.jupyter.widget-view+json": {
       "model_id": "",
       "version_major": 2,
       "version_minor": 0
      },
      "text/plain": [
       "TEST:   0%|          | 0/1000 [00:00<?, ?it/s]"
      ]
     },
     "metadata": {},
     "output_type": "display_data"
    },
    {
     "data": {
      "application/vnd.jupyter.widget-view+json": {
       "model_id": "",
       "version_major": 2,
       "version_minor": 0
      },
      "text/plain": [
       "TEST:   0%|          | 0/1000 [00:00<?, ?it/s]"
      ]
     },
     "metadata": {},
     "output_type": "display_data"
    },
    {
     "data": {
      "application/vnd.jupyter.widget-view+json": {
       "model_id": "",
       "version_major": 2,
       "version_minor": 0
      },
      "text/plain": [
       "SDP correlations:   0%|          | 0/20 [00:00<?, ?it/s]"
      ]
     },
     "metadata": {},
     "output_type": "display_data"
    },
    {
     "data": {
      "application/vnd.jupyter.widget-view+json": {
       "model_id": "",
       "version_major": 2,
       "version_minor": 0
      },
      "text/plain": [
       "TEST:   0%|          | 0/1000 [00:00<?, ?it/s]"
      ]
     },
     "metadata": {},
     "output_type": "display_data"
    },
    {
     "data": {
      "application/vnd.jupyter.widget-view+json": {
       "model_id": "",
       "version_major": 2,
       "version_minor": 0
      },
      "text/plain": [
       "TEST:   0%|          | 0/1000 [00:00<?, ?it/s]"
      ]
     },
     "metadata": {},
     "output_type": "display_data"
    },
    {
     "data": {
      "application/vnd.jupyter.widget-view+json": {
       "model_id": "",
       "version_major": 2,
       "version_minor": 0
      },
      "text/plain": [
       "SDP correlations:   0%|          | 0/20 [00:00<?, ?it/s]"
      ]
     },
     "metadata": {},
     "output_type": "display_data"
    },
    {
     "data": {
      "application/vnd.jupyter.widget-view+json": {
       "model_id": "",
       "version_major": 2,
       "version_minor": 0
      },
      "text/plain": [
       "TEST:   0%|          | 0/1000 [00:00<?, ?it/s]"
      ]
     },
     "metadata": {},
     "output_type": "display_data"
    },
    {
     "data": {
      "application/vnd.jupyter.widget-view+json": {
       "model_id": "",
       "version_major": 2,
       "version_minor": 0
      },
      "text/plain": [
       "TEST:   0%|          | 0/1000 [00:00<?, ?it/s]"
      ]
     },
     "metadata": {},
     "output_type": "display_data"
    },
    {
     "data": {
      "application/vnd.jupyter.widget-view+json": {
       "model_id": "",
       "version_major": 2,
       "version_minor": 0
      },
      "text/plain": [
       "SDP correlations:   0%|          | 0/20 [00:00<?, ?it/s]"
      ]
     },
     "metadata": {},
     "output_type": "display_data"
    },
    {
     "data": {
      "application/vnd.jupyter.widget-view+json": {
       "model_id": "",
       "version_major": 2,
       "version_minor": 0
      },
      "text/plain": [
       "TEST:   0%|          | 0/1000 [00:00<?, ?it/s]"
      ]
     },
     "metadata": {},
     "output_type": "display_data"
    },
    {
     "data": {
      "application/vnd.jupyter.widget-view+json": {
       "model_id": "",
       "version_major": 2,
       "version_minor": 0
      },
      "text/plain": [
       "TEST:   0%|          | 0/1000 [00:00<?, ?it/s]"
      ]
     },
     "metadata": {},
     "output_type": "display_data"
    },
    {
     "data": {
      "application/vnd.jupyter.widget-view+json": {
       "model_id": "",
       "version_major": 2,
       "version_minor": 0
      },
      "text/plain": [
       "SDP correlations:   0%|          | 0/20 [00:00<?, ?it/s]"
      ]
     },
     "metadata": {},
     "output_type": "display_data"
    },
    {
     "data": {
      "application/vnd.jupyter.widget-view+json": {
       "model_id": "",
       "version_major": 2,
       "version_minor": 0
      },
      "text/plain": [
       "TEST:   0%|          | 0/1000 [00:00<?, ?it/s]"
      ]
     },
     "metadata": {},
     "output_type": "display_data"
    },
    {
     "data": {
      "application/vnd.jupyter.widget-view+json": {
       "model_id": "",
       "version_major": 2,
       "version_minor": 0
      },
      "text/plain": [
       "TEST:   0%|          | 0/1000 [00:00<?, ?it/s]"
      ]
     },
     "metadata": {},
     "output_type": "display_data"
    },
    {
     "data": {
      "application/vnd.jupyter.widget-view+json": {
       "model_id": "",
       "version_major": 2,
       "version_minor": 0
      },
      "text/plain": [
       "SDP correlations:   0%|          | 0/20 [00:00<?, ?it/s]"
      ]
     },
     "metadata": {},
     "output_type": "display_data"
    },
    {
     "data": {
      "application/vnd.jupyter.widget-view+json": {
       "model_id": "",
       "version_major": 2,
       "version_minor": 0
      },
      "text/plain": [
       "TEST:   0%|          | 0/1000 [00:00<?, ?it/s]"
      ]
     },
     "metadata": {},
     "output_type": "display_data"
    },
    {
     "data": {
      "application/vnd.jupyter.widget-view+json": {
       "model_id": "",
       "version_major": 2,
       "version_minor": 0
      },
      "text/plain": [
       "TEST:   0%|          | 0/1000 [00:00<?, ?it/s]"
      ]
     },
     "metadata": {},
     "output_type": "display_data"
    },
    {
     "data": {
      "application/vnd.jupyter.widget-view+json": {
       "model_id": "",
       "version_major": 2,
       "version_minor": 0
      },
      "text/plain": [
       "SDP correlations:   0%|          | 0/20 [00:00<?, ?it/s]"
      ]
     },
     "metadata": {},
     "output_type": "display_data"
    },
    {
     "data": {
      "application/vnd.jupyter.widget-view+json": {
       "model_id": "",
       "version_major": 2,
       "version_minor": 0
      },
      "text/plain": [
       "TEST:   0%|          | 0/1000 [00:00<?, ?it/s]"
      ]
     },
     "metadata": {},
     "output_type": "display_data"
    },
    {
     "data": {
      "application/vnd.jupyter.widget-view+json": {
       "model_id": "",
       "version_major": 2,
       "version_minor": 0
      },
      "text/plain": [
       "TEST:   0%|          | 0/1000 [00:00<?, ?it/s]"
      ]
     },
     "metadata": {},
     "output_type": "display_data"
    },
    {
     "data": {
      "application/vnd.jupyter.widget-view+json": {
       "model_id": "",
       "version_major": 2,
       "version_minor": 0
      },
      "text/plain": [
       "SDP correlations:   0%|          | 0/20 [00:00<?, ?it/s]"
      ]
     },
     "metadata": {},
     "output_type": "display_data"
    },
    {
     "data": {
      "application/vnd.jupyter.widget-view+json": {
       "model_id": "",
       "version_major": 2,
       "version_minor": 0
      },
      "text/plain": [
       "TEST:   0%|          | 0/1000 [00:00<?, ?it/s]"
      ]
     },
     "metadata": {},
     "output_type": "display_data"
    },
    {
     "data": {
      "application/vnd.jupyter.widget-view+json": {
       "model_id": "",
       "version_major": 2,
       "version_minor": 0
      },
      "text/plain": [
       "TEST:   0%|          | 0/1000 [00:00<?, ?it/s]"
      ]
     },
     "metadata": {},
     "output_type": "display_data"
    },
    {
     "data": {
      "application/vnd.jupyter.widget-view+json": {
       "model_id": "",
       "version_major": 2,
       "version_minor": 0
      },
      "text/plain": [
       "SDP correlations:   0%|          | 0/20 [00:00<?, ?it/s]"
      ]
     },
     "metadata": {},
     "output_type": "display_data"
    },
    {
     "data": {
      "application/vnd.jupyter.widget-view+json": {
       "model_id": "",
       "version_major": 2,
       "version_minor": 0
      },
      "text/plain": [
       "TEST:   0%|          | 0/1000 [00:00<?, ?it/s]"
      ]
     },
     "metadata": {},
     "output_type": "display_data"
    },
    {
     "data": {
      "application/vnd.jupyter.widget-view+json": {
       "model_id": "",
       "version_major": 2,
       "version_minor": 0
      },
      "text/plain": [
       "TEST:   0%|          | 0/1000 [00:00<?, ?it/s]"
      ]
     },
     "metadata": {},
     "output_type": "display_data"
    },
    {
     "data": {
      "application/vnd.jupyter.widget-view+json": {
       "model_id": "",
       "version_major": 2,
       "version_minor": 0
      },
      "text/plain": [
       "SDP correlations:   0%|          | 0/20 [00:00<?, ?it/s]"
      ]
     },
     "metadata": {},
     "output_type": "display_data"
    },
    {
     "data": {
      "application/vnd.jupyter.widget-view+json": {
       "model_id": "",
       "version_major": 2,
       "version_minor": 0
      },
      "text/plain": [
       "TEST:   0%|          | 0/1000 [00:00<?, ?it/s]"
      ]
     },
     "metadata": {},
     "output_type": "display_data"
    },
    {
     "data": {
      "application/vnd.jupyter.widget-view+json": {
       "model_id": "",
       "version_major": 2,
       "version_minor": 0
      },
      "text/plain": [
       "TEST:   0%|          | 0/1000 [00:00<?, ?it/s]"
      ]
     },
     "metadata": {},
     "output_type": "display_data"
    },
    {
     "data": {
      "application/vnd.jupyter.widget-view+json": {
       "model_id": "",
       "version_major": 2,
       "version_minor": 0
      },
      "text/plain": [
       "SDP correlations:   0%|          | 0/20 [00:00<?, ?it/s]"
      ]
     },
     "metadata": {},
     "output_type": "display_data"
    },
    {
     "data": {
      "application/vnd.jupyter.widget-view+json": {
       "model_id": "",
       "version_major": 2,
       "version_minor": 0
      },
      "text/plain": [
       "TEST:   0%|          | 0/1000 [00:00<?, ?it/s]"
      ]
     },
     "metadata": {},
     "output_type": "display_data"
    },
    {
     "data": {
      "application/vnd.jupyter.widget-view+json": {
       "model_id": "",
       "version_major": 2,
       "version_minor": 0
      },
      "text/plain": [
       "TEST:   0%|          | 0/1000 [00:00<?, ?it/s]"
      ]
     },
     "metadata": {},
     "output_type": "display_data"
    },
    {
     "data": {
      "application/vnd.jupyter.widget-view+json": {
       "model_id": "",
       "version_major": 2,
       "version_minor": 0
      },
      "text/plain": [
       "SDP correlations:   0%|          | 0/20 [00:00<?, ?it/s]"
      ]
     },
     "metadata": {},
     "output_type": "display_data"
    },
    {
     "data": {
      "application/vnd.jupyter.widget-view+json": {
       "model_id": "",
       "version_major": 2,
       "version_minor": 0
      },
      "text/plain": [
       "TEST:   0%|          | 0/1000 [00:00<?, ?it/s]"
      ]
     },
     "metadata": {},
     "output_type": "display_data"
    },
    {
     "data": {
      "application/vnd.jupyter.widget-view+json": {
       "model_id": "",
       "version_major": 2,
       "version_minor": 0
      },
      "text/plain": [
       "TEST:   0%|          | 0/1000 [00:00<?, ?it/s]"
      ]
     },
     "metadata": {},
     "output_type": "display_data"
    },
    {
     "data": {
      "application/vnd.jupyter.widget-view+json": {
       "model_id": "",
       "version_major": 2,
       "version_minor": 0
      },
      "text/plain": [
       "SDP correlations:   0%|          | 0/20 [00:00<?, ?it/s]"
      ]
     },
     "metadata": {},
     "output_type": "display_data"
    },
    {
     "data": {
      "application/vnd.jupyter.widget-view+json": {
       "model_id": "",
       "version_major": 2,
       "version_minor": 0
      },
      "text/plain": [
       "TEST:   0%|          | 0/1000 [00:00<?, ?it/s]"
      ]
     },
     "metadata": {},
     "output_type": "display_data"
    },
    {
     "data": {
      "application/vnd.jupyter.widget-view+json": {
       "model_id": "",
       "version_major": 2,
       "version_minor": 0
      },
      "text/plain": [
       "TEST:   0%|          | 0/1000 [00:00<?, ?it/s]"
      ]
     },
     "metadata": {},
     "output_type": "display_data"
    },
    {
     "data": {
      "application/vnd.jupyter.widget-view+json": {
       "model_id": "",
       "version_major": 2,
       "version_minor": 0
      },
      "text/plain": [
       "SDP correlations:   0%|          | 0/20 [00:00<?, ?it/s]"
      ]
     },
     "metadata": {},
     "output_type": "display_data"
    },
    {
     "data": {
      "application/vnd.jupyter.widget-view+json": {
       "model_id": "",
       "version_major": 2,
       "version_minor": 0
      },
      "text/plain": [
       "TEST:   0%|          | 0/1000 [00:00<?, ?it/s]"
      ]
     },
     "metadata": {},
     "output_type": "display_data"
    },
    {
     "data": {
      "application/vnd.jupyter.widget-view+json": {
       "model_id": "",
       "version_major": 2,
       "version_minor": 0
      },
      "text/plain": [
       "TEST:   0%|          | 0/1000 [00:00<?, ?it/s]"
      ]
     },
     "metadata": {},
     "output_type": "display_data"
    },
    {
     "data": {
      "application/vnd.jupyter.widget-view+json": {
       "model_id": "",
       "version_major": 2,
       "version_minor": 0
      },
      "text/plain": [
       "SDP correlations:   0%|          | 0/20 [00:00<?, ?it/s]"
      ]
     },
     "metadata": {},
     "output_type": "display_data"
    },
    {
     "data": {
      "application/vnd.jupyter.widget-view+json": {
       "model_id": "",
       "version_major": 2,
       "version_minor": 0
      },
      "text/plain": [
       "TEST:   0%|          | 0/1000 [00:00<?, ?it/s]"
      ]
     },
     "metadata": {},
     "output_type": "display_data"
    },
    {
     "data": {
      "application/vnd.jupyter.widget-view+json": {
       "model_id": "",
       "version_major": 2,
       "version_minor": 0
      },
      "text/plain": [
       "TEST:   0%|          | 0/1000 [00:00<?, ?it/s]"
      ]
     },
     "metadata": {},
     "output_type": "display_data"
    },
    {
     "data": {
      "application/vnd.jupyter.widget-view+json": {
       "model_id": "",
       "version_major": 2,
       "version_minor": 0
      },
      "text/plain": [
       "SDP correlations:   0%|          | 0/20 [00:00<?, ?it/s]"
      ]
     },
     "metadata": {},
     "output_type": "display_data"
    },
    {
     "data": {
      "application/vnd.jupyter.widget-view+json": {
       "model_id": "",
       "version_major": 2,
       "version_minor": 0
      },
      "text/plain": [
       "TEST:   0%|          | 0/1000 [00:00<?, ?it/s]"
      ]
     },
     "metadata": {},
     "output_type": "display_data"
    },
    {
     "data": {
      "application/vnd.jupyter.widget-view+json": {
       "model_id": "",
       "version_major": 2,
       "version_minor": 0
      },
      "text/plain": [
       "TEST:   0%|          | 0/1000 [00:00<?, ?it/s]"
      ]
     },
     "metadata": {},
     "output_type": "display_data"
    },
    {
     "data": {
      "application/vnd.jupyter.widget-view+json": {
       "model_id": "",
       "version_major": 2,
       "version_minor": 0
      },
      "text/plain": [
       "SDP correlations:   0%|          | 0/20 [00:00<?, ?it/s]"
      ]
     },
     "metadata": {},
     "output_type": "display_data"
    },
    {
     "data": {
      "application/vnd.jupyter.widget-view+json": {
       "model_id": "",
       "version_major": 2,
       "version_minor": 0
      },
      "text/plain": [
       "TEST:   0%|          | 0/1000 [00:00<?, ?it/s]"
      ]
     },
     "metadata": {},
     "output_type": "display_data"
    },
    {
     "data": {
      "application/vnd.jupyter.widget-view+json": {
       "model_id": "",
       "version_major": 2,
       "version_minor": 0
      },
      "text/plain": [
       "TEST:   0%|          | 0/1000 [00:00<?, ?it/s]"
      ]
     },
     "metadata": {},
     "output_type": "display_data"
    },
    {
     "data": {
      "application/vnd.jupyter.widget-view+json": {
       "model_id": "",
       "version_major": 2,
       "version_minor": 0
      },
      "text/plain": [
       "SDP correlations:   0%|          | 0/20 [00:00<?, ?it/s]"
      ]
     },
     "metadata": {},
     "output_type": "display_data"
    },
    {
     "data": {
      "application/vnd.jupyter.widget-view+json": {
       "model_id": "",
       "version_major": 2,
       "version_minor": 0
      },
      "text/plain": [
       "TEST:   0%|          | 0/1000 [00:00<?, ?it/s]"
      ]
     },
     "metadata": {},
     "output_type": "display_data"
    },
    {
     "data": {
      "application/vnd.jupyter.widget-view+json": {
       "model_id": "",
       "version_major": 2,
       "version_minor": 0
      },
      "text/plain": [
       "TEST:   0%|          | 0/1000 [00:00<?, ?it/s]"
      ]
     },
     "metadata": {},
     "output_type": "display_data"
    },
    {
     "data": {
      "application/vnd.jupyter.widget-view+json": {
       "model_id": "",
       "version_major": 2,
       "version_minor": 0
      },
      "text/plain": [
       "SDP correlations:   0%|          | 0/20 [00:00<?, ?it/s]"
      ]
     },
     "metadata": {},
     "output_type": "display_data"
    },
    {
     "data": {
      "application/vnd.jupyter.widget-view+json": {
       "model_id": "",
       "version_major": 2,
       "version_minor": 0
      },
      "text/plain": [
       "TEST:   0%|          | 0/1000 [00:00<?, ?it/s]"
      ]
     },
     "metadata": {},
     "output_type": "display_data"
    },
    {
     "data": {
      "application/vnd.jupyter.widget-view+json": {
       "model_id": "",
       "version_major": 2,
       "version_minor": 0
      },
      "text/plain": [
       "TEST:   0%|          | 0/1000 [00:00<?, ?it/s]"
      ]
     },
     "metadata": {},
     "output_type": "display_data"
    },
    {
     "data": {
      "application/vnd.jupyter.widget-view+json": {
       "model_id": "",
       "version_major": 2,
       "version_minor": 0
      },
      "text/plain": [
       "SDP correlations:   0%|          | 0/20 [00:00<?, ?it/s]"
      ]
     },
     "metadata": {},
     "output_type": "display_data"
    },
    {
     "data": {
      "application/vnd.jupyter.widget-view+json": {
       "model_id": "",
       "version_major": 2,
       "version_minor": 0
      },
      "text/plain": [
       "TEST:   0%|          | 0/1000 [00:00<?, ?it/s]"
      ]
     },
     "metadata": {},
     "output_type": "display_data"
    },
    {
     "data": {
      "application/vnd.jupyter.widget-view+json": {
       "model_id": "",
       "version_major": 2,
       "version_minor": 0
      },
      "text/plain": [
       "TEST:   0%|          | 0/1000 [00:00<?, ?it/s]"
      ]
     },
     "metadata": {},
     "output_type": "display_data"
    },
    {
     "data": {
      "application/vnd.jupyter.widget-view+json": {
       "model_id": "",
       "version_major": 2,
       "version_minor": 0
      },
      "text/plain": [
       "SDP correlations:   0%|          | 0/20 [00:00<?, ?it/s]"
      ]
     },
     "metadata": {},
     "output_type": "display_data"
    },
    {
     "data": {
      "application/vnd.jupyter.widget-view+json": {
       "model_id": "",
       "version_major": 2,
       "version_minor": 0
      },
      "text/plain": [
       "TEST:   0%|          | 0/1000 [00:00<?, ?it/s]"
      ]
     },
     "metadata": {},
     "output_type": "display_data"
    },
    {
     "data": {
      "application/vnd.jupyter.widget-view+json": {
       "model_id": "",
       "version_major": 2,
       "version_minor": 0
      },
      "text/plain": [
       "TEST:   0%|          | 0/1000 [00:00<?, ?it/s]"
      ]
     },
     "metadata": {},
     "output_type": "display_data"
    },
    {
     "data": {
      "application/vnd.jupyter.widget-view+json": {
       "model_id": "",
       "version_major": 2,
       "version_minor": 0
      },
      "text/plain": [
       "SDP correlations:   0%|          | 0/20 [00:00<?, ?it/s]"
      ]
     },
     "metadata": {},
     "output_type": "display_data"
    },
    {
     "data": {
      "application/vnd.jupyter.widget-view+json": {
       "model_id": "",
       "version_major": 2,
       "version_minor": 0
      },
      "text/plain": [
       "TEST:   0%|          | 0/1000 [00:00<?, ?it/s]"
      ]
     },
     "metadata": {},
     "output_type": "display_data"
    },
    {
     "data": {
      "application/vnd.jupyter.widget-view+json": {
       "model_id": "",
       "version_major": 2,
       "version_minor": 0
      },
      "text/plain": [
       "TEST:   0%|          | 0/1000 [00:00<?, ?it/s]"
      ]
     },
     "metadata": {},
     "output_type": "display_data"
    },
    {
     "data": {
      "application/vnd.jupyter.widget-view+json": {
       "model_id": "",
       "version_major": 2,
       "version_minor": 0
      },
      "text/plain": [
       "SDP correlations:   0%|          | 0/20 [00:00<?, ?it/s]"
      ]
     },
     "metadata": {},
     "output_type": "display_data"
    },
    {
     "data": {
      "application/vnd.jupyter.widget-view+json": {
       "model_id": "",
       "version_major": 2,
       "version_minor": 0
      },
      "text/plain": [
       "TEST:   0%|          | 0/1000 [00:00<?, ?it/s]"
      ]
     },
     "metadata": {},
     "output_type": "display_data"
    },
    {
     "data": {
      "application/vnd.jupyter.widget-view+json": {
       "model_id": "",
       "version_major": 2,
       "version_minor": 0
      },
      "text/plain": [
       "TEST:   0%|          | 0/1000 [00:00<?, ?it/s]"
      ]
     },
     "metadata": {},
     "output_type": "display_data"
    },
    {
     "data": {
      "application/vnd.jupyter.widget-view+json": {
       "model_id": "",
       "version_major": 2,
       "version_minor": 0
      },
      "text/plain": [
       "SDP correlations:   0%|          | 0/20 [00:00<?, ?it/s]"
      ]
     },
     "metadata": {},
     "output_type": "display_data"
    },
    {
     "data": {
      "application/vnd.jupyter.widget-view+json": {
       "model_id": "",
       "version_major": 2,
       "version_minor": 0
      },
      "text/plain": [
       "TEST:   0%|          | 0/1000 [00:00<?, ?it/s]"
      ]
     },
     "metadata": {},
     "output_type": "display_data"
    },
    {
     "data": {
      "application/vnd.jupyter.widget-view+json": {
       "model_id": "",
       "version_major": 2,
       "version_minor": 0
      },
      "text/plain": [
       "TEST:   0%|          | 0/1000 [00:00<?, ?it/s]"
      ]
     },
     "metadata": {},
     "output_type": "display_data"
    },
    {
     "data": {
      "application/vnd.jupyter.widget-view+json": {
       "model_id": "",
       "version_major": 2,
       "version_minor": 0
      },
      "text/plain": [
       "SDP correlations:   0%|          | 0/20 [00:00<?, ?it/s]"
      ]
     },
     "metadata": {},
     "output_type": "display_data"
    },
    {
     "data": {
      "application/vnd.jupyter.widget-view+json": {
       "model_id": "",
       "version_major": 2,
       "version_minor": 0
      },
      "text/plain": [
       "TEST:   0%|          | 0/1000 [00:00<?, ?it/s]"
      ]
     },
     "metadata": {},
     "output_type": "display_data"
    },
    {
     "data": {
      "application/vnd.jupyter.widget-view+json": {
       "model_id": "",
       "version_major": 2,
       "version_minor": 0
      },
      "text/plain": [
       "TEST:   0%|          | 0/1000 [00:00<?, ?it/s]"
      ]
     },
     "metadata": {},
     "output_type": "display_data"
    },
    {
     "data": {
      "application/vnd.jupyter.widget-view+json": {
       "model_id": "",
       "version_major": 2,
       "version_minor": 0
      },
      "text/plain": [
       "SDP correlations:   0%|          | 0/20 [00:00<?, ?it/s]"
      ]
     },
     "metadata": {},
     "output_type": "display_data"
    },
    {
     "data": {
      "application/vnd.jupyter.widget-view+json": {
       "model_id": "",
       "version_major": 2,
       "version_minor": 0
      },
      "text/plain": [
       "TEST:   0%|          | 0/1000 [00:00<?, ?it/s]"
      ]
     },
     "metadata": {},
     "output_type": "display_data"
    },
    {
     "data": {
      "application/vnd.jupyter.widget-view+json": {
       "model_id": "",
       "version_major": 2,
       "version_minor": 0
      },
      "text/plain": [
       "TEST:   0%|          | 0/1000 [00:00<?, ?it/s]"
      ]
     },
     "metadata": {},
     "output_type": "display_data"
    },
    {
     "data": {
      "application/vnd.jupyter.widget-view+json": {
       "model_id": "",
       "version_major": 2,
       "version_minor": 0
      },
      "text/plain": [
       "SDP correlations:   0%|          | 0/20 [00:00<?, ?it/s]"
      ]
     },
     "metadata": {},
     "output_type": "display_data"
    },
    {
     "data": {
      "application/vnd.jupyter.widget-view+json": {
       "model_id": "",
       "version_major": 2,
       "version_minor": 0
      },
      "text/plain": [
       "TEST:   0%|          | 0/1000 [00:00<?, ?it/s]"
      ]
     },
     "metadata": {},
     "output_type": "display_data"
    },
    {
     "data": {
      "application/vnd.jupyter.widget-view+json": {
       "model_id": "",
       "version_major": 2,
       "version_minor": 0
      },
      "text/plain": [
       "TEST:   0%|          | 0/1000 [00:00<?, ?it/s]"
      ]
     },
     "metadata": {},
     "output_type": "display_data"
    },
    {
     "data": {
      "application/vnd.jupyter.widget-view+json": {
       "model_id": "",
       "version_major": 2,
       "version_minor": 0
      },
      "text/plain": [
       "SDP correlations:   0%|          | 0/20 [00:00<?, ?it/s]"
      ]
     },
     "metadata": {},
     "output_type": "display_data"
    },
    {
     "data": {
      "application/vnd.jupyter.widget-view+json": {
       "model_id": "",
       "version_major": 2,
       "version_minor": 0
      },
      "text/plain": [
       "TEST:   0%|          | 0/1000 [00:00<?, ?it/s]"
      ]
     },
     "metadata": {},
     "output_type": "display_data"
    },
    {
     "data": {
      "application/vnd.jupyter.widget-view+json": {
       "model_id": "",
       "version_major": 2,
       "version_minor": 0
      },
      "text/plain": [
       "TEST:   0%|          | 0/1000 [00:00<?, ?it/s]"
      ]
     },
     "metadata": {},
     "output_type": "display_data"
    },
    {
     "data": {
      "application/vnd.jupyter.widget-view+json": {
       "model_id": "",
       "version_major": 2,
       "version_minor": 0
      },
      "text/plain": [
       "SDP correlations:   0%|          | 0/20 [00:00<?, ?it/s]"
      ]
     },
     "metadata": {},
     "output_type": "display_data"
    },
    {
     "data": {
      "application/vnd.jupyter.widget-view+json": {
       "model_id": "",
       "version_major": 2,
       "version_minor": 0
      },
      "text/plain": [
       "TEST:   0%|          | 0/1000 [00:00<?, ?it/s]"
      ]
     },
     "metadata": {},
     "output_type": "display_data"
    },
    {
     "data": {
      "application/vnd.jupyter.widget-view+json": {
       "model_id": "",
       "version_major": 2,
       "version_minor": 0
      },
      "text/plain": [
       "TEST:   0%|          | 0/1000 [00:00<?, ?it/s]"
      ]
     },
     "metadata": {},
     "output_type": "display_data"
    },
    {
     "data": {
      "application/vnd.jupyter.widget-view+json": {
       "model_id": "",
       "version_major": 2,
       "version_minor": 0
      },
      "text/plain": [
       "SDP correlations:   0%|          | 0/20 [00:00<?, ?it/s]"
      ]
     },
     "metadata": {},
     "output_type": "display_data"
    },
    {
     "data": {
      "application/vnd.jupyter.widget-view+json": {
       "model_id": "",
       "version_major": 2,
       "version_minor": 0
      },
      "text/plain": [
       "TEST:   0%|          | 0/1000 [00:00<?, ?it/s]"
      ]
     },
     "metadata": {},
     "output_type": "display_data"
    },
    {
     "data": {
      "application/vnd.jupyter.widget-view+json": {
       "model_id": "",
       "version_major": 2,
       "version_minor": 0
      },
      "text/plain": [
       "TEST:   0%|          | 0/1000 [00:00<?, ?it/s]"
      ]
     },
     "metadata": {},
     "output_type": "display_data"
    },
    {
     "data": {
      "application/vnd.jupyter.widget-view+json": {
       "model_id": "",
       "version_major": 2,
       "version_minor": 0
      },
      "text/plain": [
       "SDP correlations:   0%|          | 0/20 [00:00<?, ?it/s]"
      ]
     },
     "metadata": {},
     "output_type": "display_data"
    },
    {
     "data": {
      "application/vnd.jupyter.widget-view+json": {
       "model_id": "",
       "version_major": 2,
       "version_minor": 0
      },
      "text/plain": [
       "TEST:   0%|          | 0/1000 [00:00<?, ?it/s]"
      ]
     },
     "metadata": {},
     "output_type": "display_data"
    },
    {
     "name": "stderr",
     "output_type": "stream",
     "text": [
      "C:\\Users\\NICOLA~1\\AppData\\Local\\Temp/ipykernel_38544/2688199018.py:69: RuntimeWarning: invalid value encountered in subtract\n",
      "  ax3.fill_between(list_rho, ecarts_relatifs_couts - incert_ecarts_relatifs_couts, ecarts_relatifs_couts + incert_ecarts_relatifs_couts, color='gray', alpha=0.2, label=\"Intervalle de confiance à 95%\")\n"
     ]
    },
    {
     "data": {
      "text/plain": [
       "<matplotlib.legend.Legend at 0x211b3346be0>"
      ]
     },
     "execution_count": 8,
     "metadata": {},
     "output_type": "execute_result"
    },
    {
     "data": {
      "image/png": "[encoded data removed]",
      "text/plain": [
       "<Figure size 1080x504 with 1 Axes>"
      ]
     },
     "metadata": {
      "needs_background": "light"
     },
     "output_type": "display_data"
    },
    {
     "data": {
      "image/png": "[encoded data removed]",
      "text/plain": [
       "<Figure size 1080x504 with 1 Axes>"
      ]
     },
     "metadata": {
      "needs_background": "light"
     },
     "output_type": "display_data"
    },
    {
     "data": {
      "image/png": "[encoded data removed]",
      "text/plain": [
       "<Figure size 1080x504 with 1 Axes>"
      ]
     },
     "metadata": {
      "needs_background": "light"
     },
     "output_type": "display_data"
    }
   ],
   "source": [
    "N_POINTS = 100\n",
    "T = 20\n",
    "N_SCENARIOS = 1000\n",
    "\n",
    "\n",
    "list_rho = np.linspace(-1, 1, N_POINTS)\n",
    "couts_moyens_correlations = []\n",
    "couts_moyens_sans_correlations = []\n",
    "ecarts_couts = []\n",
    "ecarts_relatifs_couts = []\n",
    "\n",
    "incert_couts_moyens_sans_correlations = []\n",
    "incert_ecarts_couts = []\n",
    "incert_ecarts_relatifs_couts = []\n",
    "# a faire : ajouter incertitudes\n",
    "\n",
    "\n",
    "cout_moyen_sans_correlations, decisions_sans_correlations = programmation_dynamique_stochastique(T)\n",
    "\n",
    "for rho in tqdm(list_rho):\n",
    "    scenarios_test = generate_scenarios_correles(T, N_SCENARIOS, rho)\n",
    "\n",
    "    # valeurs en ignorat l'autocorrélation\n",
    "    trajectoires_sans_correlation, couts_sans_correlation = test_sur_scenarios_non_correles(decisions_sans_correlations, scenarios_test, T)\n",
    "\n",
    "    # valeurs justes\n",
    "    cout_moyen_correlations, decisions_correlations = programmation_dynamique_stochastique_correlations(T, rho)\n",
    "    trajectoires_correlation, couts_correlation = test_sur_scenarios_correles(decisions_correlations, scenarios_test, T)\n",
    "    \n",
    "    couts_moyens_correlations.append(cout_moyen_correlations)#np.mean(couts_correlation))\n",
    "    couts_moyens_sans_correlations.append(np.mean(couts_sans_correlation))\n",
    "    ecarts_couts.append(couts_moyens_sans_correlations[-1] - couts_moyens_correlations[-1])\n",
    "    ecarts_relatifs_couts.append((couts_moyens_sans_correlations[-1] - couts_moyens_correlations[-1]) / couts_moyens_correlations[-1])\n",
    "    \n",
    "    incert_couts_moyens_sans_correlations.append(1.96 * np.std(couts_sans_correlation) / np.sqrt(N_SCENARIOS))\n",
    "    incert_ecarts_couts.append(incert_couts_moyens_sans_correlations[-1])\n",
    "    incert_ecarts_relatifs_couts.append(incert_couts_moyens_sans_correlations[-1] / couts_moyens_correlations[-1])\n",
    "\n",
    "    \n",
    "couts_moyens_correlations = np.array(couts_moyens_correlations)\n",
    "couts_moyens_sans_correlations = np.array(couts_moyens_sans_correlations)\n",
    "ecarts_couts = np.array(ecarts_couts)\n",
    "ecarts_relatifs_couts = np.array(ecarts_relatifs_couts)\n",
    "\n",
    "incert_couts_moyens_sans_correlations = np.array(incert_couts_moyens_sans_correlations)\n",
    "incert_ecarts_couts = np.array(incert_ecarts_couts)\n",
    "incert_ecarts_relatifs_couts = np.array(incert_ecarts_relatifs_couts)\n",
    "    \n",
    "fig1, ax1 = plt.subplots(1, 1, figsize=(15, 7))\n",
    "ax1.fill_between(list_rho, couts_moyens_sans_correlations - incert_couts_moyens_sans_correlations, couts_moyens_sans_correlations + incert_couts_moyens_sans_correlations, color='gray', alpha=0.2, label=\"Intervalle de confiance à 95%\")\n",
    "ax1.plot(list_rho, couts_moyens_correlations, label=\"Coûts moyens en prenant en compte l'autocorrélations des bruits\")\n",
    "ax1.plot(list_rho, couts_moyens_sans_correlations, label=\"Coûts moyens sans prendre en compte l'autocorrélations des bruits\")\n",
    "ax1.set_xlabel(r\"$\\rho$\", fontsize=16)\n",
    "ax1.set_ylabel(\"Coût\", fontsize=16)\n",
    "ax1.set_title(\"Coût de la méthode prenant en compte l'autocorrélation d'ordre 1 \\n et de la méthode la négligeant\", fontsize=16)\n",
    "ax1.grid(True)\n",
    "ax1.legend()\n",
    "\n",
    "fig2, ax2 = plt.subplots(1, 1, figsize=(15, 7))\n",
    "ax2.fill_between(list_rho, ecarts_couts - incert_couts_moyens_sans_correlations, ecarts_couts + incert_couts_moyens_sans_correlations, color='gray', alpha=0.2, label=\"Intervalle de confiance à 95%\")\n",
    "ax2.plot(list_rho, ecarts_couts, label=\"Ecart absolu entre les coûts des deux méthodes\")\n",
    "ax2.set_xlabel(r\"$\\rho$\", fontsize=16)\n",
    "ax2.set_ylabel(\"Coût\", fontsize=16)\n",
    "ax2.set_title(\"Ecart absolu entre les coûts de la méthode prenant en compte l'autocorrélation d'ordre 1 \\n et ceux de la la méthode la négligeant\", fontsize=16)\n",
    "ax2.grid(True)\n",
    "ax2.legend()\n",
    "\n",
    "fig3, ax3 = plt.subplots(1, 1, figsize=(15, 7))\n",
    "ax3.fill_between(list_rho, ecarts_relatifs_couts - incert_ecarts_relatifs_couts, ecarts_relatifs_couts + incert_ecarts_relatifs_couts, color='gray', alpha=0.2, label=\"Intervalle de confiance à 95%\")\n",
    "ax3.plot(list_rho, ecarts_relatifs_couts, label=\"Ecart relatif entre les coûts moyen des deux méthodes\")\n",
    "ax3.set_xlabel(r\"$\\rho$\", fontsize=16)\n",
    "ax3.set_ylabel(\"Ecart relatif entre les coûts\", fontsize=16)\n",
    "ax3.set_title(\"Ecart relatif entre les coûts de la méthode prenant en compte l'autocorrélation d'ordre 1 \\n et ceux de la la méthode la négligeant\", fontsize=16)\n",
    "ax3.grid(True)\n",
    "ax3.legend()"
   ]
  },
  {
   "cell_type": "markdown",
   "metadata": {},
   "source": [
    "# Un  cas où les bruits suivent un precessus AR1"
   ]
  },
  {
   "cell_type": "markdown",
   "metadata": {},
   "source": [
    "On se place dans un cas où les bruits suivent une dynamique définie par :\n",
    "$$W_{t+1} = \\phi W_{t} + \\epsilon_{t+1}$$\n",
    "\n",
    "La loi de $W_{t}$ est $\\mathcal{N}(0, \\frac{1 - \\phi^{t}}{1- \\phi})$. \n",
    "La loi de $W_{t}$ en régime stationnaire est donc $\\mathcal{N}(0, \\frac{1}{1- \\phi})$.\n",
    "L'autocorrélation d'ardre 1 vaut $\\rho = \\frac{\\phi}{1 - \\phi^2}$  \n",
    "\n",
    "On suppose que l'ensemble des décisions est un compact dans $[-2, ~2]$."
   ]
  },
  {
   "cell_type": "markdown",
   "metadata": {},
   "source": [
    "### En ignorant l'autocorrélation d'ordre 1"
   ]
  },
  {
   "cell_type": "code",
   "execution_count": 88,
   "metadata": {
    "scrolled": false
   },
   "outputs": [
    {
     "data": {
      "application/vnd.jupyter.widget-view+json": {
       "model_id": "",
       "version_major": 2,
       "version_minor": 0
      },
      "text/plain": [
       "SDP:   0%|          | 0/10 [00:00<?, ?it/s]"
      ]
     },
     "metadata": {},
     "output_type": "display_data"
    },
    {
     "name": "stdout",
     "output_type": "stream",
     "text": [
      "COUT MOYEN THEORIQUE : 3.2015491815192068\n"
     ]
    },
    {
     "data": {
      "application/vnd.jupyter.widget-view+json": {
       "model_id": "",
       "version_major": 2,
       "version_minor": 0
      },
      "text/plain": [
       "TEST:   0%|          | 0/100000 [00:00<?, ?it/s]"
      ]
     },
     "metadata": {},
     "output_type": "display_data"
    },
    {
     "name": "stdout",
     "output_type": "stream",
     "text": [
      "COUT MOYEN SIMULE : 3.2150092316877656 0.020086603656554645\n"
     ]
    }
   ],
   "source": [
    "T = 10\n",
    "PHI = 0.3\n",
    "N_SCENARIOS = 100000\n",
    "SIGMA = np.sqrt(1 / (1 - (PHI**2)))\n",
    "DISCRETISATION_DECISIONS = 200+1\n",
    "DISCRETISATION_BRUITS = 200+1\n",
    "DISCRETISATION_ETATS = 1000+1\n",
    "PLAGE_DECISIONS = 2\n",
    "PLAGE_ETATS = 15\n",
    "PLAGE_BRUITS = 3.5\n",
    "\n",
    "def decision_to_index(x, discretisation_decisions=DISCRETISATION_DECISIONS):\n",
    "    if hasattr(x, \"__len__\"):\n",
    "        return ((x + PLAGE_DECISIONS) // (2 * PLAGE_DECISIONS / discretisation_decisions)).astype(np.int)\n",
    "    else:\n",
    "        return int((x + PLAGE_DECISIONS) // (2 * PLAGE_DECISIONS / discretisation_decisions))\n",
    "\n",
    "def etat_to_index(x, sigma=SIGMA, discretisation_etats=DISCRETISATION_ETATS):\n",
    "    if hasattr(x, \"__len__\"):\n",
    "        return  np.minimum(discretisation_etats-1 , np.maximum(0, ((x + PLAGE_ETATS * sigma) // (2 * PLAGE_ETATS * sigma / discretisation_etats )).astype(np.int64)))\n",
    "    else:\n",
    "        return min(discretisation_etats-1 , max(0, int((x + PLAGE_ETATS * sigma) // (2 * PLAGE_ETATS * sigma / discretisation_etats))))\n",
    "\n",
    "\n",
    "def programmation_dynamique_stochastique_continue(T, sigma_bruit, discretisation_decisions=DISCRETISATION_DECISIONS, discretisation_bruits=DISCRETISATION_BRUITS, discretisation_etats=DISCRETISATION_ETATS):\n",
    "\n",
    "    controles = np.linspace(-PLAGE_DECISIONS, PLAGE_DECISIONS, discretisation_decisions+1)\n",
    "    bruits= np.linspace(- PLAGE_BRUITS * sigma_bruit, PLAGE_BRUITS * sigma_bruit, discretisation_bruits+1)\n",
    "    etats = np.linspace(- PLAGE_ETATS * sigma_bruit, PLAGE_ETATS * sigma_bruit, discretisation_etats+1)\n",
    "    \n",
    "    bruits= 0.5 * (bruits[:-1] + bruits[1:])\n",
    "    etats = 0.5 * (etats[:-1] + etats[1:])\n",
    "    controles = 0.5 * (controles[:-1] + controles[1:])\n",
    "    \n",
    "    proba_bruits = (1/ (sigma_bruit * np.sqrt(2 * np.pi))) * np.exp(- (bruits**2) / (2 * (sigma_bruit**2))) * (2 * PLAGE_BRUITS * sigma_bruit / discretisation_bruits)\n",
    "    proba_bruits = proba_bruits / np.sum(proba_bruits)\n",
    "\n",
    "    n_etats = len(etats)\n",
    "    n_controles = len(controles)\n",
    "    n_bruits = len(bruits)\n",
    "    \n",
    "    tab = np.zeros((T+1, n_etats)) #indexation [temps, état]\n",
    "    decisions = np.zeros((T, n_etats))\n",
    "\n",
    "    #indexes_etats = etat_to_index(etats, sigma_bruit, discretisation_etats)\n",
    "    #indexes_derniers_bruits = bruit_to_index(bruits, sigma_bruit, discretisation_bruits)\n",
    "\n",
    "    \n",
    "    indexes_etats = etat_to_index(etats, sigma_bruit, discretisation_etats)\n",
    "    indexes_futurs_etats = etat_to_index(etats.reshape(1, -1, 1) + controles.reshape(-1, 1, 1) + bruits.reshape(1, 1, -1), sigma_bruit, discretisation_etats)     \n",
    "    ## controles, etat, bruit\n",
    "    \n",
    "    # Couts finaux\n",
    "    tab[-1, indexes_etats] = etats.flatten() ** 2\n",
    "    \n",
    "    #phase backward\n",
    "    for t in tqdm(range(T-1, -1, -1), desc=\"SDP\", leave=False):\n",
    "        ##controles, etats, anciens bruits, nouveaux bruits\n",
    "        couts = controles.reshape(-1, 1) ** 2 + np.sum(proba_bruits.reshape(1, 1, -1) * tab[t+1, indexes_futurs_etats], axis=2)\n",
    "        ## controles, etats, anciens bruits\n",
    "        argmin_couts = np.argmin(couts, axis=0)\n",
    "        tab[t, indexes_etats] = np.take_along_axis(couts, argmin_couts[None, :], axis=0)[0, :]\n",
    "        decisions[t, indexes_etats] = controles[argmin_couts]\n",
    "\n",
    "    idx_etat_initial = etat_to_index(0, sigma_bruit, discretisation_etats)\n",
    "    return tab[0, idx_etat_initial], decisions\n",
    "\n",
    "\n",
    "def generate_scenarios_non_correles_continus(T, n_scenarios, sigma):\n",
    "    return sigma * np.random.normal(size=(n_scenarios, T+1))\n",
    "\n",
    "\n",
    "def test_sur_scenarios_non_correles_continus(decisions, scenarios, T, sigma=SIGMA, discretisation_etats=DISCRETISATION_ETATS):\n",
    "    etats = np.zeros((T+1, scenarios.shape[0]))\n",
    "    couts = []\n",
    "    for idx, scenario in tqdm(enumerate(scenarios), desc=\"TEST\", total=scenarios.shape[0], leave=False):\n",
    "        cout = 0\n",
    "        for t in range(1, T+1):\n",
    "            etat = etats[t-1, idx]\n",
    "\n",
    "            index_etat = min(decisions.shape[1]-1 , max(0, etat_to_index(etat, sigma, discretisation_etats)))\n",
    "            decision = decisions[t-1, index_etat]\n",
    "            bruit = scenario[t]\n",
    "            \n",
    "            #print(etat, decision, bruit)\n",
    "            \n",
    "            etats[t, idx] =  etat + decision + bruit\n",
    "            \n",
    "            \n",
    "            cout += decision ** 2\n",
    "        cout += etats[T, idx] ** 2\n",
    "        couts.append(cout)\n",
    "    return etats, np.array(couts)\n",
    "\n",
    "\n",
    "cout_moyen, decisions = programmation_dynamique_stochastique_continue(T, SIGMA, DISCRETISATION_DECISIONS, DISCRETISATION_BRUITS, DISCRETISATION_ETATS)\n",
    "SCENARIOS_BRUIT_BLANCS_CONTINU = generate_scenarios_non_correles_continus(T, N_SCENARIOS, SIGMA)\n",
    "print(\"COUT MOYEN THEORIQUE :\", cout_moyen)\n",
    "trajectoires, couts = test_sur_scenarios_non_correles_continus(decisions, SCENARIOS_BRUIT_BLANCS_CONTINU, T, SIGMA)\n",
    "print(\"COUT MOYEN SIMULE :\", np.mean(couts), 1.96*np.std(couts)/np.sqrt(N_SCENARIOS))"
   ]
  },
  {
   "cell_type": "code",
   "execution_count": 90,
   "metadata": {},
   "outputs": [
    {
     "name": "stdout",
     "output_type": "stream",
     "text": [
      "COUT MOYEN THEORIQUE : 3.2015491815192068\n"
     ]
    },
    {
     "data": {
      "application/vnd.jupyter.widget-view+json": {
       "model_id": "",
       "version_major": 2,
       "version_minor": 0
      },
      "text/plain": [
       "TEST:   0%|          | 0/100000 [00:00<?, ?it/s]"
      ]
     },
     "metadata": {},
     "output_type": "display_data"
    },
    {
     "name": "stdout",
     "output_type": "stream",
     "text": [
      "COUT MOYEN SIMULE : 3.2134204043965107 0.019965087557636884\n"
     ]
    }
   ],
   "source": [
    "def generate_scenarios_non_correles_continus2(T, n_scenarios, sigma, discretisation_bruits=DISCRETISATION_BRUITS):\n",
    "    bruits= np.linspace(- PLAGE_BRUITS * sigma, PLAGE_BRUITS * sigma, discretisation_bruits+1)    \n",
    "    bruits= 0.5 * (bruits[:-1] + bruits[1:])\n",
    "    \n",
    "    proba_bruits = (1/ (sigma * np.sqrt(2 * np.pi))) * np.exp(- (bruits**2) / (2 * (sigma**2))) * (2 * PLAGE_BRUITS * sigma / discretisation_bruits)\n",
    "    proba_bruits = proba_bruits / np.sum(proba_bruits)\n",
    "\n",
    "    return np.random.choice(bruits, size=(n_scenarios, T), p=proba_bruits)\n",
    "\n",
    "\n",
    "def test_sur_scenarios_non_correles_continus2(decisions, scenarios, T, sigma=SIGMA, discretisation_etats=DISCRETISATION_ETATS):\n",
    "    etats = np.zeros((T+1, scenarios.shape[0]))\n",
    "    etats_SDP = np.linspace(- PLAGE_ETATS * sigma, PLAGE_ETATS * sigma, discretisation_etats+1)\n",
    "    etats_SDP = 0.5 * (etats_SDP[:-1] + etats_SDP[1:])\n",
    "\n",
    "    couts = []\n",
    "    for idx, scenario in tqdm(enumerate(scenarios), desc=\"TEST\", total=scenarios.shape[0], leave=False):\n",
    "        cout = 0\n",
    "        for t in range(1, T+1):\n",
    "            etat = etats[t-1, idx]\n",
    "\n",
    "            index_etat = min(decisions.shape[1]-1 , max(0, etat_to_index(etat, sigma, discretisation_etats)))\n",
    "            decision = decisions[t-1, index_etat]\n",
    "            bruit = scenario[t-1]\n",
    "            \n",
    "            #print(etat, decision, bruit)\n",
    "            index_etat = min(decisions.shape[1]-1 , max(0, etat_to_index(etat + decision + bruit, sigma, discretisation_etats)))\n",
    "            etats[t, idx] =  etats_SDP[index_etat]\n",
    "            \n",
    "            \n",
    "            cout += decision ** 2\n",
    "        cout += etats[T, idx] ** 2\n",
    "        couts.append(cout)\n",
    "    return etats, np.array(couts)\n",
    "\n",
    "\n",
    "N_SCENARIOS = 100000\n",
    "SCENARIOS_BRUIT_BLANCS_CONTINU = generate_scenarios_non_correles_continus2(T, N_SCENARIOS, SIGMA)\n",
    "print(\"COUT MOYEN THEORIQUE :\", cout_moyen)\n",
    "trajectoires, couts = test_sur_scenarios_non_correles_continus2(decisions, SCENARIOS_BRUIT_BLANCS_CONTINU, T, SIGMA)\n",
    "print(\"COUT MOYEN SIMULE :\", np.mean(couts), 1.96*np.std(couts)/np.sqrt(N_SCENARIOS))"
   ]
  },
  {
   "cell_type": "markdown",
   "metadata": {},
   "source": [
    "### En prenant en compte l'autocorrélation d'ordre 1"
   ]
  },
  {
   "cell_type": "code",
   "execution_count": 93,
   "metadata": {},
   "outputs": [
    {
     "data": {
      "application/vnd.jupyter.widget-view+json": {
       "model_id": "",
       "version_major": 2,
       "version_minor": 0
      },
      "text/plain": [
       "SDP:   0%|          | 0/3 [00:00<?, ?it/s]"
      ]
     },
     "metadata": {},
     "output_type": "display_data"
    },
    {
     "name": "stdout",
     "output_type": "stream",
     "text": [
      "COUT MOYEN THEORIQUE : 2.540308988497699\n"
     ]
    },
    {
     "data": {
      "application/vnd.jupyter.widget-view+json": {
       "model_id": "",
       "version_major": 2,
       "version_minor": 0
      },
      "text/plain": [
       "TEST:   0%|          | 0/100000 [00:00<?, ?it/s]"
      ]
     },
     "metadata": {},
     "output_type": "display_data"
    },
    {
     "name": "stdout",
     "output_type": "stream",
     "text": [
      "COUT MOYEN SIMULE : 2.55156934382149 0.018263401492405726\n"
     ]
    }
   ],
   "source": [
    "T = 3\n",
    "PHI = 0.3\n",
    "N_SCENARIOS = 100000\n",
    "SIGMA = np.sqrt(1 / (1 - (PHI**2)))\n",
    "DISCRETISATION_DECISIONS = 20+1\n",
    "DISCRETISATION_BRUITS_BLANCS = 30+1\n",
    "DISCRETISATION_BRUITS = 40+1\n",
    "DISCRETISATION_ETATS = 200+1\n",
    "PLAGE_DECISIONS = 2\n",
    "PLAGE_ETATS = 5\n",
    "PLAGE_BRUITS = 3.5\n",
    "PLAGE_BRUITS_BLANCS = 3.5\n",
    "\n",
    "def decision_to_index(x, discretisation_decisions=DISCRETISATION_DECISIONS):\n",
    "    if hasattr(x, \"__len__\"):\n",
    "        return ((x + PLAGE_DECISIONS) // (2 * PLAGE_DECISIONS / discretisation_decisions)).astype(np.int64)\n",
    "    else:\n",
    "        return int((x + PLAGE_DECISIONS) // (2 * PLAGE_DECISIONS / discretisation_decisions))\n",
    "\n",
    "def bruit_to_index(x, sigma_bruit=SIGMA, discretisation_bruits=DISCRETISATION_BRUITS):\n",
    "    if hasattr(x, \"__len__\"):\n",
    "        return np.minimum(discretisation_bruits-1 , np.maximum(0, ((x + PLAGE_BRUITS * sigma_bruit) // (2 * PLAGE_BRUITS * sigma_bruit / discretisation_bruits)).astype(np.int64)))\n",
    "    else:\n",
    "        return min(discretisation_bruits-1 , max(0, int((x + PLAGE_BRUITS  * sigma_bruit) // (2 * PLAGE_BRUITS * sigma_bruit / discretisation_bruits))))\n",
    "\n",
    "def etat_to_index(x, sigma=SIGMA, discretisation_etats=DISCRETISATION_ETATS):\n",
    "    if hasattr(x, \"__len__\"):\n",
    "        return  np.minimum(discretisation_etats-1 , np.maximum(0, ((x + PLAGE_ETATS * sigma) // (2 * PLAGE_ETATS * sigma / discretisation_etats )).astype(np.int64)))\n",
    "    else:\n",
    "        return min(discretisation_etats-1 , max(0, int((x + PLAGE_ETATS * sigma) // (2 * PLAGE_ETATS * sigma / discretisation_etats))))\n",
    "\n",
    "\n",
    "def programmation_dynamique_stochastique_continue_correlations(T, phi, discretisation_decisions=DISCRETISATION_DECISIONS, discretisation_bruits=DISCRETISATION_BRUITS, discretisation_etats=DISCRETISATION_ETATS, discretisation_bruits_blancs=DISCRETISATION_BRUITS_BLANCS):\n",
    "    sigma_bruit = np.sqrt(1 /(1-phi**2))\n",
    "    controles = np.linspace(- PLAGE_DECISIONS, PLAGE_DECISIONS, discretisation_decisions+1)\n",
    "    bruits_blancs= np.linspace(- PLAGE_BRUITS_BLANCS, PLAGE_BRUITS_BLANCS, discretisation_bruits_blancs+1)\n",
    "    bruits= np.linspace(- PLAGE_BRUITS * sigma_bruit, PLAGE_BRUITS * sigma_bruit, discretisation_bruits+1)\n",
    "    etats = np.linspace(- PLAGE_ETATS * sigma_bruit, PLAGE_ETATS * sigma_bruit, discretisation_etats+1)\n",
    "    \n",
    "    bruits_blancs= 0.5 * (bruits_blancs[:-1] + bruits_blancs[1:])\n",
    "    etats = 0.5 * (etats[:-1] + etats[1:])\n",
    "    controles = 0.5 * (controles[:-1] + controles[1:])\n",
    "    bruits= 0.5 * (bruits[:-1] + bruits[1:])\n",
    "    \n",
    "    proba_bruits_blancs = (1/ (np.sqrt(2 * np.pi))) * np.exp(- (bruits_blancs**2) / 2) * (2 * PLAGE_BRUITS_BLANCS / discretisation_bruits_blancs)\n",
    "    proba_bruits_blancs = proba_bruits_blancs / np.sum(proba_bruits_blancs)\n",
    "\n",
    "    n_etats = len(etats)\n",
    "    n_controles = len(controles)\n",
    "    n_bruits = len(bruits)\n",
    "    \n",
    "    tab = np.zeros((T+1, n_etats, n_bruits)) #indexation [temps, état, dernier_bruit]\n",
    "    decisions = np.zeros((T, n_etats, n_bruits))\n",
    "\n",
    "    \n",
    "    indexes_etats = etat_to_index(etats, sigma_bruit, discretisation_etats)\n",
    "    indexes_derniers_bruits = bruit_to_index(bruits, sigma_bruit, discretisation_bruits)\n",
    "    futurs_bruits = phi * bruits.reshape(-1, 1) + bruits_blancs.reshape(1, -1) #ancien bruit, nouveau bruit\n",
    "    indexes_futurs_bruits = bruit_to_index(futurs_bruits, sigma_bruit, discretisation_bruits)\n",
    "    indexes_futurs_etats = etat_to_index(etats.reshape(1, -1, 1, 1) + controles.reshape(-1, 1, 1, 1) + futurs_bruits[np.newaxis, np.newaxis, :, :], sigma_bruit, discretisation_etats)  \n",
    "    #calcul de la fonction de coûts finaux\n",
    "    #for etat in etats:\n",
    "    tab[-1, indexes_etats, :] = etats.reshape(-1, 1) ** 2\n",
    "\n",
    "        \n",
    "    #phase backward\n",
    "    for t in tqdm(range(T-1, -1, -1), desc=\"SDP\", leave=False):\n",
    "        indexes_etats = etat_to_index(etats, sigma_bruit, discretisation_etats)\n",
    "        indexes_derniers_bruits = bruit_to_index(bruits, sigma_bruit, discretisation_bruits)\n",
    "        futurs_bruits = phi * bruits.reshape(-1, 1) + bruits_blancs.reshape(1, -1) #ancien bruit, nouveau bruit\n",
    "        indexes_futurs_bruits = bruit_to_index(futurs_bruits, sigma_bruit, discretisation_bruits)\n",
    "        indexes_futurs_etats = etat_to_index(etats.reshape(1, -1, 1, 1) + controles.reshape(-1, 1, 1, 1) + futurs_bruits[np.newaxis, np.newaxis, :, :], sigma_bruit, discretisation_etats)       \n",
    "        ##controles, etats, anciens bruits, nouveaux bruits\n",
    "        couts = controles.reshape(-1, 1, 1) ** 2 + np.sum(proba_bruits_blancs.reshape(1, 1, 1, -1) * tab[t+1, indexes_futurs_etats, indexes_futurs_bruits], axis=3)       \n",
    "        ## controles, etats, anciens bruits -\n",
    "        argmin_couts = np.argmin(couts, axis=0)\n",
    "        tab[t, indexes_etats[:, np.newaxis], indexes_derniers_bruits[np.newaxis, :]] = np.take_along_axis(couts, argmin_couts[None, :,:], axis=0)[0,:,:]\n",
    "        decisions[t, indexes_etats[:, np.newaxis], indexes_derniers_bruits[np.newaxis, :]] = controles[argmin_couts]\n",
    "    \n",
    "    idx_etat_initial = etat_to_index(0, sigma_bruit, discretisation_etats)\n",
    "    \n",
    "    proba_bruit_initial =  ((1/ (np.sqrt(2 * np.pi) * sigma_bruit)) * np.exp(- (bruits**2) / (2 * (sigma_bruit**2)))) * (2 * PLAGE_BRUITS / discretisation_bruits)\n",
    "    proba_bruit_initial = proba_bruit_initial / np.sum(proba_bruit_initial)\n",
    "\n",
    "    \n",
    "    return np.sum(proba_bruit_initial * tab[0, idx_etat_initial, :]), decisions\n",
    "\n",
    "def generate_scenarios_continus_correlations(T, n_scenarios, sigma_bruit, phi):\n",
    "    res = [sigma_bruit * np.random.normal(size=(n_scenarios, 1))]\n",
    "    for t in range(1, T+1):\n",
    "        res.append(phi * res[-1] + np.random.normal(size=(n_scenarios, 1)))\n",
    "    return np.concatenate(res, axis=1)\n",
    "\n",
    "\n",
    "def test_sur_scenarios_continus_correlations(decisions, scenarios, T, sigma=SIGMA, discretisation_etats=DISCRETISATION_ETATS, discretisation_bruits=DISCRETISATION_BRUITS):\n",
    "    etats = np.zeros((T+1, scenarios.shape[0]))\n",
    "    couts = []\n",
    "    for idx, scenario in tqdm(enumerate(scenarios), desc=\"TEST\", total=scenarios.shape[0], leave=False):\n",
    "        cout = 0\n",
    "        for t in range(0, T):\n",
    "            etat = etats[t, idx]\n",
    "            dernier_bruit = scenario[t]\n",
    "                                                                            \n",
    "            index_etat = etat_to_index(etat, sigma, discretisation_etats)\n",
    "            index_dernier_bruit = bruit_to_index(dernier_bruit, sigma, discretisation_bruits)\n",
    "            \n",
    "            #print(\"aaa\", decisions.shape, index_etat, index_dernier_bruit)\n",
    "            decision = decisions[t, index_etat, index_dernier_bruit]\n",
    "            #print(\"etat\", etat, \"dernier bruit\", dernier_bruit, \"decision\", decision)\n",
    "            bruit = scenario[t+1]\n",
    "            \n",
    "            etats[t+1, idx] =  etat + decision + bruit\n",
    "            cout += decision ** 2\n",
    "        cout += etats[T, idx] ** 2\n",
    "        couts.append(cout)\n",
    "    return etats, np.array(couts)\n",
    "\n",
    "cout_moyen, decisions = programmation_dynamique_stochastique_continue_correlations(T, PHI)#, discretisation_decisions=DISCRETISATION_DECISIONS, discretisation_bruits=DISCRETISATION_BRUITS, discretisation_etats=DISCRETISATION_ETATS, discretisation_bruits_blancs=DISCRETISATION_BRUITS_BLANCS)\n",
    "SCENARIOS_BRUIT_BLANCS_CONTINU_CORRELATION = generate_scenarios_continus_correlations(T, N_SCENARIOS, SIGMA, PHI)\n",
    "#print(SCENARIOS_BRUIT_BLANCS_CONTINU_CORRELATION.shape)\n",
    "print(\"COUT MOYEN THEORIQUE :\", cout_moyen)\n",
    "trajectoires, couts = test_sur_scenarios_continus_correlations(decisions, SCENARIOS_BRUIT_BLANCS_CONTINU_CORRELATION, T, SIGMA)\n",
    "print(\"COUT MOYEN SIMULE :\", np.mean(couts), 1.96*np.std(couts)/np.sqrt(N_SCENARIOS))"
   ]
  },
  {
   "cell_type": "code",
   "execution_count": 94,
   "metadata": {},
   "outputs": [
    {
     "name": "stdout",
     "output_type": "stream",
     "text": [
      "COUT MOYEN THEORIQUE : 2.540308988497699\n"
     ]
    },
    {
     "data": {
      "application/vnd.jupyter.widget-view+json": {
       "model_id": "",
       "version_major": 2,
       "version_minor": 0
      },
      "text/plain": [
       "TEST:   0%|          | 0/100000 [00:00<?, ?it/s]"
      ]
     },
     "metadata": {},
     "output_type": "display_data"
    },
    {
     "name": "stdout",
     "output_type": "stream",
     "text": [
      "COUT MOYEN SIMULE : 2.544658343944965 0.018433160813974784\n"
     ]
    }
   ],
   "source": [
    "def generate_scenarios_correles_continus2(T, n_scenarios, phi, discretisation_bruits=DISCRETISATION_BRUITS, discretisation_bruits_blancs=DISCRETISATION_BRUITS_BLANCS):\n",
    "    sigma = np.sqrt(1 / ( 1- phi**2))\n",
    "    bruits= np.linspace(- PLAGE_BRUITS * sigma, PLAGE_BRUITS * sigma, discretisation_bruits+1)\n",
    "    bruits= 0.5 * (bruits[:-1] + bruits[1:])\n",
    "    proba_bruits = (1/ (sigma * np.sqrt(2 * np.pi))) * np.exp(- (bruits**2) / (2 * (sigma**2))) * (2 * PLAGE_BRUITS * sigma / discretisation_bruits)\n",
    "    \n",
    "\n",
    "    bruits_blancs= np.linspace(- PLAGE_BRUITS_BLANCS, PLAGE_BRUITS_BLANCS, discretisation_bruits_blancs+1)\n",
    "    proba_bruits_blancs = (1/ np.sqrt(2 * np.pi)) * np.exp(- (bruits_blancs**2) / 2) * (2 * PLAGE_BRUITS_BLANCS / discretisation_bruits_blancs)\n",
    "    \n",
    "    res = [np.random.choice(bruits, size=(n_scenarios, 1), p=proba_bruits / np.sum(proba_bruits))]\n",
    "    \n",
    "    \n",
    "    for t in range(1, T+2):\n",
    "        bruit_blanc = np.random.choice(bruits_blancs, size=(n_scenarios, 1), p=proba_bruits_blancs / np.sum(proba_bruits_blancs))\n",
    "        bruit_suivant = phi * res[-1] + bruit_blanc\n",
    "        idx_bruit_suivant = np.minimum(discretisation_bruits-1 , np.maximum(0, bruit_to_index(bruit_suivant, sigma, discretisation_bruits)))\n",
    "        bruit_suivant_discretise = bruits[idx_bruit_suivant]\n",
    "        res.append(bruit_suivant_discretise)\n",
    "    return np.concatenate(res, axis=1)\n",
    "\n",
    "\n",
    "def test_sur_scenarios_correles_continus2(decisions, scenarios, T, sigma=SIGMA, discretisation_etats=DISCRETISATION_ETATS, discretisation_bruits=DISCRETISATION_BRUITS):\n",
    "    etats = np.zeros((T+1, scenarios.shape[0]))\n",
    "\n",
    "    etats_SDP = np.linspace(- PLAGE_ETATS * sigma, PLAGE_ETATS * sigma, discretisation_etats+1)\n",
    "    etats_SDP = 0.5 * (etats_SDP[:-1] + etats_SDP[1:])\n",
    "\n",
    "    bruits= np.linspace(- PLAGE_BRUITS * sigma, PLAGE_BRUITS * sigma, discretisation_bruits+1)    \n",
    "    bruits= 0.5 * (bruits[:-1] + bruits[1:])    \n",
    "    \n",
    "    couts = []\n",
    "    for idx, scenario in tqdm(enumerate(scenarios), desc=\"TEST\", total=scenarios.shape[0], leave=False):\n",
    "        cout = 0\n",
    "        for t in range(0, T):\n",
    "            etat = etats[t, idx]\n",
    "            dernier_bruit = scenario[t]\n",
    "            \n",
    "            index_etat = min(decisions.shape[1]-1 , max(0, etat_to_index(etat, sigma, discretisation_etats)))\n",
    "            index_dernier_bruit = min(discretisation_bruits-1 , max(0, etat_to_index(dernier_bruit, sigma, discretisation_bruits)))\n",
    "            decision = decisions[t, index_etat, index_dernier_bruit]\n",
    "            bruit = scenario[t+1]\n",
    "            \n",
    "            etat_suivant = etat + decision + bruit\n",
    "            index_etat_suivant = min(decisions.shape[1]-1 , max(0, etat_to_index(etat_suivant, sigma, discretisation_etats)))\n",
    "\n",
    "            etats[t+1, idx] =  etats_SDP[index_etat_suivant]\n",
    "            cout += decision ** 2\n",
    "\n",
    "            \n",
    "        cout += etats[-1, idx] ** 2\n",
    "        couts.append(cout)\n",
    "    return etats, np.array(couts) \n",
    "\n",
    "N_SCENARIOS = 100000\n",
    "SCENARIOS_BRUIT_BLANCS_CONTINU = generate_scenarios_correles_continus2(T, N_SCENARIOS, PHI)\n",
    "print(\"COUT MOYEN THEORIQUE :\", cout_moyen)\n",
    "trajectoires, couts = test_sur_scenarios_correles_continus2(decisions, SCENARIOS_BRUIT_BLANCS_CONTINU, T, SIGMA)\n",
    "print(\"COUT MOYEN SIMULE :\", np.mean(couts), 1.96*np.std(couts)/np.sqrt(N_SCENARIOS))"
   ]
  },
  {
   "cell_type": "markdown",
   "metadata": {},
   "source": [
    "### Comparaison des deux méthodes"
   ]
  },
  {
   "cell_type": "code",
   "execution_count": 105,
   "metadata": {
    "scrolled": false
   },
   "outputs": [
    {
     "data": {
      "application/vnd.jupyter.widget-view+json": {
       "model_id": "ad1d39b992684bffbb232734642695e2",
       "version_major": 2,
       "version_minor": 0
      },
      "text/plain": [
       "  0%|          | 0/5 [00:00<?, ?it/s]"
      ]
     },
     "metadata": {},
     "output_type": "display_data"
    },
    {
     "data": {
      "application/vnd.jupyter.widget-view+json": {
       "model_id": "",
       "version_major": 2,
       "version_minor": 0
      },
      "text/plain": [
       "SDP:   0%|          | 0/3 [00:00<?, ?it/s]"
      ]
     },
     "metadata": {},
     "output_type": "display_data"
    },
    {
     "data": {
      "application/vnd.jupyter.widget-view+json": {
       "model_id": "",
       "version_major": 2,
       "version_minor": 0
      },
      "text/plain": [
       "TEST:   0%|          | 0/100 [00:00<?, ?it/s]"
      ]
     },
     "metadata": {},
     "output_type": "display_data"
    },
    {
     "data": {
      "application/vnd.jupyter.widget-view+json": {
       "model_id": "",
       "version_major": 2,
       "version_minor": 0
      },
      "text/plain": [
       "SDP:   0%|          | 0/3 [00:00<?, ?it/s]"
      ]
     },
     "metadata": {},
     "output_type": "display_data"
    },
    {
     "data": {
      "application/vnd.jupyter.widget-view+json": {
       "model_id": "",
       "version_major": 2,
       "version_minor": 0
      },
      "text/plain": [
       "SDP:   0%|          | 0/3 [00:00<?, ?it/s]"
      ]
     },
     "metadata": {},
     "output_type": "display_data"
    },
    {
     "data": {
      "application/vnd.jupyter.widget-view+json": {
       "model_id": "",
       "version_major": 2,
       "version_minor": 0
      },
      "text/plain": [
       "TEST:   0%|          | 0/100 [00:00<?, ?it/s]"
      ]
     },
     "metadata": {},
     "output_type": "display_data"
    },
    {
     "data": {
      "application/vnd.jupyter.widget-view+json": {
       "model_id": "",
       "version_major": 2,
       "version_minor": 0
      },
      "text/plain": [
       "SDP:   0%|          | 0/3 [00:00<?, ?it/s]"
      ]
     },
     "metadata": {},
     "output_type": "display_data"
    },
    {
     "name": "stderr",
     "output_type": "stream",
     "text": [
      "C:\\Users\\NICOLA~1\\AppData\\Local\\Temp/ipykernel_38544/993086985.py:35: RuntimeWarning: invalid value encountered in double_scalars\n",
      "  phi = (np.sqrt(1 + 4 * (rho**2)) - 1) / (2 * rho)\n"
     ]
    },
    {
     "data": {
      "application/vnd.jupyter.widget-view+json": {
       "model_id": "",
       "version_major": 2,
       "version_minor": 0
      },
      "text/plain": [
       "SDP:   0%|          | 0/3 [00:00<?, ?it/s]"
      ]
     },
     "metadata": {},
     "output_type": "display_data"
    },
    {
     "data": {
      "application/vnd.jupyter.widget-view+json": {
       "model_id": "",
       "version_major": 2,
       "version_minor": 0
      },
      "text/plain": [
       "TEST:   0%|          | 0/100 [00:00<?, ?it/s]"
      ]
     },
     "metadata": {},
     "output_type": "display_data"
    },
    {
     "data": {
      "application/vnd.jupyter.widget-view+json": {
       "model_id": "",
       "version_major": 2,
       "version_minor": 0
      },
      "text/plain": [
       "SDP:   0%|          | 0/3 [00:00<?, ?it/s]"
      ]
     },
     "metadata": {},
     "output_type": "display_data"
    },
    {
     "data": {
      "application/vnd.jupyter.widget-view+json": {
       "model_id": "",
       "version_major": 2,
       "version_minor": 0
      },
      "text/plain": [
       "SDP:   0%|          | 0/3 [00:00<?, ?it/s]"
      ]
     },
     "metadata": {},
     "output_type": "display_data"
    },
    {
     "data": {
      "application/vnd.jupyter.widget-view+json": {
       "model_id": "",
       "version_major": 2,
       "version_minor": 0
      },
      "text/plain": [
       "TEST:   0%|          | 0/100 [00:00<?, ?it/s]"
      ]
     },
     "metadata": {},
     "output_type": "display_data"
    },
    {
     "data": {
      "application/vnd.jupyter.widget-view+json": {
       "model_id": "",
       "version_major": 2,
       "version_minor": 0
      },
      "text/plain": [
       "SDP:   0%|          | 0/3 [00:00<?, ?it/s]"
      ]
     },
     "metadata": {},
     "output_type": "display_data"
    },
    {
     "data": {
      "application/vnd.jupyter.widget-view+json": {
       "model_id": "",
       "version_major": 2,
       "version_minor": 0
      },
      "text/plain": [
       "SDP:   0%|          | 0/3 [00:00<?, ?it/s]"
      ]
     },
     "metadata": {},
     "output_type": "display_data"
    },
    {
     "data": {
      "application/vnd.jupyter.widget-view+json": {
       "model_id": "",
       "version_major": 2,
       "version_minor": 0
      },
      "text/plain": [
       "TEST:   0%|          | 0/100 [00:00<?, ?it/s]"
      ]
     },
     "metadata": {},
     "output_type": "display_data"
    },
    {
     "data": {
      "application/vnd.jupyter.widget-view+json": {
       "model_id": "",
       "version_major": 2,
       "version_minor": 0
      },
      "text/plain": [
       "SDP:   0%|          | 0/3 [00:00<?, ?it/s]"
      ]
     },
     "metadata": {},
     "output_type": "display_data"
    },
    {
     "data": {
      "text/plain": [
       "<matplotlib.legend.Legend at 0x211b9079d30>"
      ]
     },
     "execution_count": 105,
     "metadata": {},
     "output_type": "execute_result"
    },
    {
     "data": {
      "image/png": "[encoded data removed]",
      "text/plain": [
       "<Figure size 1080x504 with 1 Axes>"
      ]
     },
     "metadata": {
      "needs_background": "light"
     },
     "output_type": "display_data"
    },
    {
     "data": {
      "image/png": "[encoded data removed]",
      "text/plain": [
       "<Figure size 1080x504 with 1 Axes>"
      ]
     },
     "metadata": {
      "needs_background": "light"
     },
     "output_type": "display_data"
    },
    {
     "data": {
      "image/png": "[encoded data removed]",
      "text/plain": [
       "<Figure size 1080x504 with 1 Axes>"
      ]
     },
     "metadata": {
      "needs_background": "light"
     },
     "output_type": "display_data"
    }
   ],
   "source": [
    "N_POINTS = 100\n",
    "T = 3\n",
    "N_SCENARIOS = 10000\n",
    "\n",
    "\n",
    "SIGMA = np.sqrt(1 / (1 - (PHI**2)))\n",
    "DISCRETISATION_DECISIONS = 20+1\n",
    "DISCRETISATION_BRUITS_BLANCS = 30+1\n",
    "DISCRETISATION_BRUITS = 40+1\n",
    "DISCRETISATION_ETATS = 200+1\n",
    "PLAGE_DECISIONS = 2\n",
    "PLAGE_ETATS = 5\n",
    "PLAGE_BRUITS = 3.5\n",
    "PLAGE_BRUITS_BLANCS = 3.5\n",
    "\n",
    "\n",
    "\n",
    "\n",
    "\n",
    "list_rho = np.linspace(-1, 1, N_POINTS)\n",
    "couts_moyens_correlations = []\n",
    "couts_moyens_sans_correlations = []\n",
    "ecarts_couts = []\n",
    "ecarts_relatifs_couts = []\n",
    "\n",
    "incert_couts_moyens_sans_correlations = []\n",
    "incert_ecarts_couts = []\n",
    "incert_ecarts_relatifs_couts = []\n",
    "\n",
    "#cout_moyen_sans_correlations, decisions_sans_correlations = programmation_dynamique_stochastique_continue(T, sigma_bruit, discretisation_decisions=DISCRETISATION_DECISIONS, discretisation_bruits=DISCRETISATION_BRUITS, discretisation_etats=DISCRETISATION_ETATS):\n",
    "\n",
    "    \n",
    "for rho in tqdm(list_rho, leave=True):\n",
    "    \n",
    "    phi = (np.sqrt(1 + 4 * (rho**2)) - 1) / (2 * rho)\n",
    "    if rho == 0:\n",
    "        phi = 0\n",
    "\n",
    "\n",
    "    sigma = np.sqrt(1 / (1- phi**2))\n",
    "    \n",
    "    #scenarios test\n",
    "    scenario_bruit_blanc_continu_correlation = generate_scenarios_continus_correlations(T, N_SCENARIOS, sigma, phi)\n",
    "    \n",
    "    \n",
    "    # valeurs en ignorant l'autocorrélation\n",
    "    cout_moyen_sans_correlations, decisions_sans_correlations = programmation_dynamique_stochastique_continue(T, sigma, discretisation_decisions=DISCRETISATION_DECISIONS, discretisation_bruits=DISCRETISATION_BRUITS, discretisation_etats=DISCRETISATION_ETATS)\n",
    "    trajectoires_sans_correlation, couts_sans_correlation = test_sur_scenarios_non_correles_continus(decisions_sans_correlations, scenario_bruit_blanc_continu_correlation, T, sigma=SIGMA, discretisation_etats=DISCRETISATION_ETATS)\n",
    "       \n",
    "    \n",
    "    # valeurs exactes\n",
    "    cout_moyen_correlations, decisions_correlations =  programmation_dynamique_stochastique_continue_correlations(T, phi, discretisation_decisions=DISCRETISATION_DECISIONS, discretisation_bruits=DISCRETISATION_BRUITS, discretisation_etats=DISCRETISATION_ETATS, discretisation_bruits_blancs=DISCRETISATION_BRUITS_BLANCS)\n",
    "\n",
    "    couts_moyens_correlations.append(cout_moyen_correlations)#np.mean(couts_correlation))\n",
    "    couts_moyens_sans_correlations.append(np.mean(couts_sans_correlation))\n",
    "    ecarts_couts.append(couts_moyens_sans_correlations[-1] - couts_moyens_correlations[-1])\n",
    "    ecarts_relatifs_couts.append((couts_moyens_sans_correlations[-1] - couts_moyens_correlations[-1]) / couts_moyens_correlations[-1])\n",
    "    \n",
    "    incert_couts_moyens_sans_correlations.append(1.96 * np.std(couts_sans_correlation) / np.sqrt(N_SCENARIOS))\n",
    "    incert_ecarts_couts.append(incert_couts_moyens_sans_correlations[-1])\n",
    "    incert_ecarts_relatifs_couts.append(incert_couts_moyens_sans_correlations[-1] / couts_moyens_correlations[-1])\n",
    "    \n",
    "couts_moyens_correlations = np.array(couts_moyens_correlations)\n",
    "couts_moyens_sans_correlations = np.array(couts_moyens_sans_correlations)\n",
    "ecarts_couts = np.array(ecarts_couts)\n",
    "ecarts_relatifs_couts = np.array(ecarts_relatifs_couts)\n",
    "\n",
    "incert_couts_moyens_sans_correlations = np.array(incert_couts_moyens_sans_correlations)\n",
    "incert_ecarts_couts = np.array(incert_ecarts_couts)\n",
    "incert_ecarts_relatifs_couts = np.array(incert_ecarts_relatifs_couts)\n",
    "    \n",
    "fig1, ax1 = plt.subplots(1, 1, figsize=(15, 7))\n",
    "ax1.fill_between(list_rho, couts_moyens_sans_correlations - incert_couts_moyens_sans_correlations, couts_moyens_sans_correlations + incert_couts_moyens_sans_correlations, color='gray', alpha=0.2, label=\"Intervalle de confiance à 95%\")\n",
    "ax1.plot(list_rho, couts_moyens_correlations, label=\"Coûts moyens en prenant en compte l'autocorrélations des bruits\")\n",
    "ax1.plot(list_rho, couts_moyens_sans_correlations, label=\"Coûts moyens sans prendre en compte l'autocorrélations des bruits\")\n",
    "ax1.set_xlabel(r\"$\\rho$\", fontsize=16)\n",
    "ax1.set_ylabel(\"Coût\", fontsize=16)\n",
    "ax1.set_title(\"Coût de la méthode prenant en compte l'autocorrélation d'ordre 1 \\n et de la méthode la négligeant\", fontsize=16)\n",
    "ax1.grid(True)\n",
    "ax1.legend()\n",
    "\n",
    "fig2, ax2 = plt.subplots(1, 1, figsize=(15, 7))\n",
    "ax2.fill_between(list_rho, ecarts_couts - incert_couts_moyens_sans_correlations, ecarts_couts + incert_couts_moyens_sans_correlations, color='gray', alpha=0.2, label=\"Intervalle de confiance à 95%\")\n",
    "ax2.plot(list_rho, ecarts_couts, label=\"Ecart absolu entre les coûts des deux méthodes\")\n",
    "ax2.set_xlabel(r\"$\\rho$\", fontsize=16)\n",
    "ax2.set_ylabel(\"Coût\", fontsize=16)\n",
    "ax2.set_title(\"Ecart absolu entre les coûts de la méthode prenant en compte l'autocorrélation d'ordre 1 \\n et ceux de la la méthode la négligeant\", fontsize=16)\n",
    "ax2.grid(True)\n",
    "ax2.legend()\n",
    "\n",
    "fig3, ax3 = plt.subplots(1, 1, figsize=(15, 7))\n",
    "ax3.fill_between(list_rho, ecarts_relatifs_couts - incert_ecarts_relatifs_couts, ecarts_relatifs_couts + incert_ecarts_relatifs_couts, color='gray', alpha=0.2, label=\"Intervalle de confiance à 95%\")\n",
    "ax3.plot(list_rho, ecarts_relatifs_couts, label=\"Ecart relatif entre les coûts moyen des deux méthodes\")\n",
    "ax3.set_xlabel(r\"$\\rho$\", fontsize=16)\n",
    "ax3.set_ylabel(\"Ecart relatif entre les coûts\", fontsize=16)\n",
    "ax3.set_title(\"Ecart relatif entre les coûts de la méthode prenant en compte l'autocorrélation d'ordre 1 \\n et ceux de la la méthode la négligeant\", fontsize=16)\n",
    "ax3.grid(True)\n",
    "ax3.legend()"
   ]
  },
  {
   "cell_type": "code",
   "execution_count": null,
   "metadata": {},
   "outputs": [],
   "source": []
  }
 ],
 "metadata": {
  "kernelspec": {
   "display_name": "Python 3 (ipykernel)",
   "language": "python",
   "name": "python3"
  },
  "language_info": {
   "codemirror_mode": {
    "name": "ipython",
    "version": 3
   },
   "file_extension": ".py",
   "mimetype": "text/x-python",
   "name": "python",
   "nbconvert_exporter": "python",
   "pygments_lexer": "ipython3",
   "version": "3.9.7"
  }
 },
 "nbformat": 4,
 "nbformat_minor": 4
}
